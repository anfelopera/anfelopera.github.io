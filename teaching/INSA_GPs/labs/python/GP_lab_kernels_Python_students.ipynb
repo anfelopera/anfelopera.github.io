{
 "cells": [
  {
   "cell_type": "markdown",
   "metadata": {},
   "source": [
    "# Gaussian processes – Kernel functions (Python version)\n",
    "GMM, INSA Toulouse, France <br />\n",
    "Andrés F. López-Lopera, ONERA-DTIS <br />\n",
    "May 2021\n",
    "<br />\n",
    "___"
   ]
  },
  {
   "cell_type": "markdown",
   "metadata": {},
   "source": [
    "For this lab session, you are free to use the language of your choice (e.g. R or Python). In this notebook we propose Python implementations."
   ]
  },
  {
   "cell_type": "code",
   "execution_count": null,
   "metadata": {},
   "outputs": [],
   "source": [
    "import numpy as np\n",
    "import matplotlib as mpl\n",
    "import matplotlib.pyplot as plt\n",
    "from scipy.spatial.distance import cdist\n",
    "\n",
    "plt.rc('text', usetex=True)\n",
    "%matplotlib inline"
   ]
  },
  {
   "cell_type": "markdown",
   "metadata": {},
   "source": [
    "## Covariance functions\n",
    "\n",
    "We recall some usual covariance functions on $k: \\mathbb{R} \\times \\mathbb{R} \\to \\mathbb{R}$:\n",
    "- Squared Exponential (SE):\n",
    "$$ k(x,y) = \\sigma^2 \\exp\\left( - \\frac{(x-y)^2}{2 \\theta^2} \\right)$$\n",
    "\n",
    "- Matérn 5/2:\n",
    "$$ k(x,y) = \\sigma^2 \\left(1+\\frac{\\sqrt{5} |x-y|}{\\theta}+\\frac{5 |x-y|^2}{3 \\theta^2}\\right)  \\exp\\left( - \\frac{\\sqrt{5}|x-y|}{\\theta} \\right) $$ \n",
    "\n",
    "- Matérn 3/2:\n",
    "$$ k(x,y) = \\sigma^2 \\left(1+\\frac{\\sqrt{3} |x-y|}{\\theta}\\right)  \\exp\\left( - \\frac{\\sqrt{3}|x-y|}{\\theta} \\right) $$ \n",
    "\n",
    "- Exponential:\n",
    "$$ k(x,y) = \\sigma^2 \\exp\\left( - \\frac{|x-y|}{\\theta} \\right)  $$ \n",
    "\n",
    "- Brownian:\n",
    "$$ k(x,y) = \\sigma^2 \\min(x, y) $$ \n",
    "\n",
    "- White noise:\n",
    "$$ k(x,y) = \\sigma^2 \\delta_{x,y} $$ \n",
    "\n",
    "- Constant:\n",
    "$$ k(x,y) = \\sigma^2 $$ \n",
    "\n",
    "- Linear:\n",
    "$$ k(x,y) = \\sigma^2 x y $$ \n",
    "\n",
    "- Cosine:\n",
    "$$ k(x,y) = \\sigma^2 \\cos\\left(\\frac{x-y}{\\theta}\\right) $$ \n",
    "\n",
    "- Sinc:\n",
    "$$ k(x,y) = \\sigma^2 \\frac{\\theta}{x-y} \\sin\\left(\\frac{x-y}{\\theta}\\right) $$ "
   ]
  },
  {
   "cell_type": "markdown",
   "metadata": {},
   "source": [
    "**Question 1.** For at least three kernels of your choice, write a function that takes as input the vectors ``x``, ``y`` and ``param`` and that returns the matrix with general terms $k(x_i, y_j)$."
   ]
  },
  {
   "cell_type": "code",
   "execution_count": null,
   "metadata": {},
   "outputs": [],
   "source": [
    "def SEKernel(x, y, param):\n",
    "    \"\"\" Squared exponential kernel\n",
    "    input:\n",
    "      x,y: input vectors\n",
    "      param: parameters (sigma,theta)\n",
    "    output:\n",
    "      covariance matrix cov(x,y)\n",
    "    \"\"\"\n",
    "    sigma2, theta = param[0], param[1]\n",
    "    dist = cdist(x, y)/theta\n",
    "    kern = ## to be filled (covariance matrix)\n",
    "    return kern\n",
    "\n",
    "## to be filled (to define another 3 kernel functions) "
   ]
  },
  {
   "cell_type": "markdown",
   "metadata": {},
   "source": [
    "**Question 2.** For a grid of 100 points on $[0, 1]$, compute the covariance matrix associated to each kernel you wrote in **Question 1**. Simulate Gaussian samples using the function ``sample``."
   ]
  },
  {
   "cell_type": "code",
   "execution_count": null,
   "metadata": {},
   "outputs": [],
   "source": [
    "# function for generating GP samples\n",
    "jitter = 1e-10  # small number to ensure numerical stability (eigenvalues of K can decay rapidly)\n",
    "def sample(mu, var, jitter, N):\n",
    "    \"\"\"Generate N samples from a multivariate Gaussian \\mathcal{N}(mu, var)\"\"\"\n",
    "    L = ## to be filled (Cholesky decomposition)\n",
    "    f_post = ## to be filled (samples)\n",
    "    return f_post"
   ]
  },
  {
   "cell_type": "code",
   "execution_count": null,
   "metadata": {},
   "outputs": [],
   "source": [
    "n = 100 # number of input points\n",
    "x = np.linspace(0, 1, n).reshape(-1,1)\n",
    "param = [1, 0.1] # parameters of the GP\n",
    "nsamples = 10 # number of GP samples"
   ]
  },
  {
   "cell_type": "code",
   "execution_count": null,
   "metadata": {
    "scrolled": false
   },
   "outputs": [],
   "source": [
    "# samples from different types of kernels\n",
    "np.random.seed(1)\n",
    "\n",
    "# plotting GP samples\n",
    "fig = plt.figure(figsize=(9, 3.5))\n",
    "plt.subplot(1, 2, 1)\n",
    "kern = SEKernel(x, x, param) \n",
    "plt.contourf(x.flatten(), x.flatten(), kern)\n",
    "plt.xlabel(\"$x$\"); plt.ylabel(\"$x'$\"); plt.title(\"Squared Exponential\")\n",
    "plt.subplot(1, 2, 2)\n",
    "samples = sample(0, kern, jitter, N=nsamples)\n",
    "plt.plot(x, samples)\n",
    "plt.xlabel(\"$x$\"); plt.ylabel(\"$Y(x)$\"); plt.title(\"GP samples\");\n",
    "\n",
    "## to be filled (repeat the plots for other kernel functions)"
   ]
  },
  {
   "cell_type": "markdown",
   "metadata": {},
   "source": [
    "**Question 3.** Change the kernel and the kernel parameters. What are the effects on the sample paths? Write down your observations."
   ]
  },
  {
   "cell_type": "raw",
   "metadata": {},
   "source": [
    "Answer: "
   ]
  },
  {
   "cell_type": "markdown",
   "metadata": {},
   "source": [
    "**Question 4.**  Using the SE kernel, generate a large number of samples and extract the vectors of the samples evaluated at two (or three) points of the input space. Plot the associated cloud of points. What happen if the two input points are close by? what happen if they are far away?"
   ]
  },
  {
   "cell_type": "code",
   "execution_count": null,
   "metadata": {},
   "outputs": [],
   "source": [
    "nsamples = 1000 # number of samples\n",
    "kern = SEKernel(x, y, param) # covariance matrix\n",
    "np.random.seed(1)\n",
    "\n",
    "samples = sample(0, kern, jitter, N=nsamples)\n",
    "idx_points = [9, 14, 99]\n",
    "x_points = ## to be filled\n",
    "samples_points = ## to be filled\n",
    "\n",
    "fig = plt.figure(figsize=(9, 3.5))\n",
    "plt.subplot(1, 2, 1)\n",
    "plt.plot(samples_points[0,:], samples_points[1,:], \"o\")\n",
    "plt.xlabel(\"$y_1$\"); plt.ylabel(\"$y_2$\")\n",
    "plt.subplot(1, 2, 2)\n",
    "plt.plot(samples_points[0,:], samples_points[2,:], \"o\")\n",
    "plt.xlabel(\"$y_1$\"); plt.ylabel(\"$y_3$\");"
   ]
  },
  {
   "cell_type": "markdown",
   "metadata": {},
   "source": [
    "## Building new kernels from other ones"
   ]
  },
  {
   "cell_type": "markdown",
   "metadata": {},
   "source": [
    "**Question 5.**  As discussed in the cours, we can create new kernels by combining predefined ones, e.g.:\n",
    "\n",
    "$$\n",
    "\\begin{array}{ll}\n",
    "\t\\text{Sum of kernels:} & k(x, y) = k_1(x, y) + k_2(x, y) \\\\\n",
    "\t\\text{Product of kernels:} & k(x, y) = k_1(x, y) \\times k_2(x, y)\n",
    "\\end{array}\t\n",
    "$$\n",
    "\n",
    "Play to make combinations of the kernel you wrote previously. Display the resulting covariance matrix and some GP samples."
   ]
  },
  {
   "cell_type": "code",
   "execution_count": null,
   "metadata": {},
   "outputs": [],
   "source": [
    "nsamples = 10\n",
    "kern = ## to be filled \n",
    "\n",
    "fig = plt.figure(figsize=(9, 3.5))\n",
    "plt.subplot(1, 2, 1)\n",
    "plt.contourf(x.flatten(), x.flatten(), kern)\n",
    "plt.xlabel(\"$x$\"); plt.ylabel(\"$x'$\")\n",
    "plt.subplot(1, 2, 2)\n",
    "np.random.seed(0)\n",
    "samples = sample(0, kern, jitter, N=nsamples)\n",
    "plt.plot(x, samples)\n",
    "plt.xlabel(\"$x$\"); plt.ylabel(\"$Y(x)$\"); plt.title(\"GP samples\");"
   ]
  },
  {
   "cell_type": "markdown",
   "metadata": {},
   "source": [
    "## Gaussian process regression"
   ]
  },
  {
   "cell_type": "markdown",
   "metadata": {},
   "source": [
    "We aim at approximating the test function $f : x \\in [0, 1] \\mapsto x + sin(6\\pi x)$ by a Gaussian process regression model:\n",
    "\n",
    "$$m(x) = k(x, X) k(X,X)^{-1} Y$$\n",
    "\n",
    "$$c(x,y) = k(x,y) - k(x, X) k(X,X)^{-1} x(X,y)$$\n"
   ]
  },
  {
   "cell_type": "markdown",
   "metadata": {},
   "source": [
    "**Question 6.** We write two functions $m$ and $c$ that return the conditional mean and covariance. These functions will typically take as inputs the scalar/vector of prediction point(s) ``x``, the DoE vector ``X``, the vector of responses ``Y``, a kernel function ``kern``, and the covariance parameters ``param``."
   ]
  },
  {
   "cell_type": "code",
   "execution_count": null,
   "metadata": {},
   "outputs": [],
   "source": [
    "# functions used for computing the conditional mean and covariance functions\n",
    "def cond_mean(x, X, Y, kern, param):\n",
    "    \"\"\"Conditional GP mean vector\n",
    "    input:\n",
    "      x: vector of prediction points\n",
    "      X: DoE vector\n",
    "      Y: vector of responses\n",
    "      kern: kernel function\n",
    "      param: parameters of the covariance\n",
    "    output:\n",
    "      conditional mean\n",
    "    \"\"\"\n",
    "    m = ## to be filled \n",
    "    return(m)\n",
    "\n",
    "def cond_cov(x, X, Y, kern, param):\n",
    "    \"\"\"Conditional GP covariance matrix \n",
    "    input:\n",
    "      x: vector of prediction points\n",
    "      X: DoE vector\n",
    "      Y: vector of responses\n",
    "      kern: kernel function\n",
    "      param: parameters of the covariance\n",
    "    output:\n",
    "      conditional covariance\n",
    "    \"\"\"\n",
    "    c = ## to be filled \n",
    "    return(c)"
   ]
  },
  {
   "cell_type": "markdown",
   "metadata": {},
   "source": [
    "**Question 7.** Create a design of experiment $X$ composed of 5 to 20 points in the input space (regularly spaced points for instance) and compute the vector of observations $Y =\n",
    "f(X)$. Display in the same figure the design points and the target function."
   ]
  },
  {
   "cell_type": "code",
   "execution_count": null,
   "metadata": {},
   "outputs": [],
   "source": [
    "def f(x): # target function\n",
    "    return(10*x + np.sin(6*np.pi*x))\n",
    "\n",
    "n_design = ## to be filled (number of input points)\n",
    "X = ## to be filled (design points)\n",
    "Y = ## to be filled (responses at the design points)\n",
    "\n",
    "fig = plt.figure(figsize=(6, 5))\n",
    "plt.plot(X, Y, 'x', color = 'C1', label = \"obs\")\n",
    "X2 = np.linspace(0, 1, 1000).reshape(-1,1)\n",
    "plt.plot(X2, f(X2), '--', color = 'C1', label = \"test function\")\n",
    "plt.legend();"
   ]
  },
  {
   "cell_type": "markdown",
   "metadata": {},
   "source": [
    "**Question 8.**  Considering the SE kernel, draw on the same graph $f(x)$, $m(x)$ and $95\\%$ confidence intervals: $m(x) \\pm 1.96 \\sqrt{c(x, x)}$."
   ]
  },
  {
   "cell_type": "code",
   "execution_count": null,
   "metadata": {},
   "outputs": [],
   "source": [
    "x = np.linspace(0, 1, 500).reshape(-1,1) # vector of prediction points\n",
    "param = [1, 0.1] # parameters of the covariance\n",
    "mu = ## to be filled (mean vector)\n",
    "Cov = ## to be filled (covariance matrix)\n",
    "\n",
    "def plotGP(x, m, c, X, Y, y):\n",
    "    \"\"\"\n",
    "    input:\n",
    "      x: test points\n",
    "      m: conditional mean vector\n",
    "      c: conditional covariance matrix\n",
    "      X: DoE vector\n",
    "      Y: vector of responses\n",
    "      y: responses at test points\n",
    "    output: GP regression plot\n",
    "    \"\"\"\n",
    "    upperBound = m.flatten() + 1.96*np.sqrt(np.abs(np.diag(c)))\n",
    "    lowerBound = m.flatten() - 1.96*np.sqrt(np.abs(np.diag(c)))\n",
    "    \n",
    "    fig = plt.figure(figsize=(6, 5))\n",
    "    plt.plot(X, Y, \"x\", color = \"C1\", label = \"obs\") \n",
    "    plt.plot(x, f(x), '--', color = 'C1', label = \"test function\")\n",
    "    plt.fill_between(x.flatten(), lowerBound.flatten(), upperBound.flatten(),\n",
    "                     label=\"CI 95%\",\n",
    "                     color=\"C0\", alpha=0.3)\n",
    "    plt.plot(x, m, color=\"C0\", label = \"predicted mean\")\n",
    "    plt.xlabel(\"$x$\")\n",
    "    plt.ylabel(\"$f(x)$\")\n",
    "    plt.legend()\n",
    "    \n",
    "plotGP(x, mu, Cov, X, Y, f(x))"
   ]
  },
  {
   "cell_type": "markdown",
   "metadata": {
    "collapsed": true
   },
   "source": [
    "**Question 9.**  Change the kernel as well as the values in ``param``. What is the effect of\n",
    "- $\\sigma^2$ on $m(x)$? Can you prove this result?\n",
    "- $\\sigma^2$ on the conditional variance $v(x) = c(x, x)$? Can you prove this result?\n",
    "- $\\theta$ on $m(x)$ (try (very) small and large values)?\n",
    "- $\\theta$ on $v(x)$ (try (very) small and large values)?"
   ]
  },
  {
   "cell_type": "raw",
   "metadata": {},
   "source": [
    "Answer:"
   ]
  },
  {
   "cell_type": "markdown",
   "metadata": {
    "collapsed": true
   },
   "source": [
    "**Question 10.** Generate samples from the conditional process"
   ]
  },
  {
   "cell_type": "code",
   "execution_count": null,
   "metadata": {},
   "outputs": [],
   "source": [
    "nsamples = 10\n",
    "samples = ## to be filled \n",
    "\n",
    "fig = plt.figure(figsize=(9, 3.5))\n",
    "plt.subplot(1, 2, 1)\n",
    "plt.contourf(x.flatten(), x.flatten(), Cov)\n",
    "plt.xlabel(\"$x$\"); plt.ylabel(\"$x'$\")\n",
    "plt.subplot(1, 2, 2)\n",
    "np.random.seed(0)\n",
    "plt.plot(x, samples)\n",
    "plt.xlabel(\"$x$\"); plt.ylabel(\"$Y(x)$\"); plt.title(\"GP samples\");\n",
    "plt.plot(X, Y, 'x', color = 'C1', label = \"obs\")"
   ]
  },
  {
   "cell_type": "markdown",
   "metadata": {},
   "source": [
    "**Question 11.**  Use the resulting model to predict values of $f$ for $x \\in [1, 1.5]$. What can you conclude?"
   ]
  },
  {
   "cell_type": "code",
   "execution_count": null,
   "metadata": {},
   "outputs": [],
   "source": [
    "x = np.linspace(0, 1.5, 500).reshape(-1,1) # vector of prediction points\n",
    "mu = cond_mean(x, X, Y, SEKernel, param) # conditional mean\n",
    "Cov = cond_cov(x, X, Y, SEKernel, param) # conditional covariance\n",
    "\n",
    "plotGP(x, mu, Cov, X, Y, f(x))"
   ]
  },
  {
   "cell_type": "markdown",
   "metadata": {},
   "source": [
    "**Question 12.** Repeat the procedure in **Question 11** but this time considering $k(x,y) = k_{lin}(x,y) + k_{cos}(x,y) + k_{SE}(x,y)$. For instance, fix the length-scale parameter of the cosine kernel to $\\theta_{cos} = 1/(6\\pi)$."
   ]
  },
  {
   "cell_type": "code",
   "execution_count": null,
   "metadata": {},
   "outputs": [],
   "source": [
    "def linCosineSEKernel(x, y, param):\n",
    "    # input:\n",
    "    #  x,y: input vectors\n",
    "    #  param: parameters (sigma2_lin, sigma2_cos, theta_cos, sigma2_SE, theta_SE)\n",
    "    # output:\n",
    "    #  kern: covariance matrix cov(x,y)\n",
    "    kern = ## to be filled \n",
    "    return(kern)\n",
    "\n",
    "x = np.linspace(0, 1.5, 500).reshape(-1,1) # vector of prediction points\n",
    "param = [1, 1, 1/(6*np.pi), 1, 0.5] # parameters of the covariance\n",
    "mu = cond_mean(x, X, Y, linCosineSEKernel, param) # conditional mean\n",
    "Cov = cond_cov(x, X, Y, linCosineSEKernel, param) # conditional covariance\n",
    "\n",
    "fig = plt.figure(figsize=(9, 3.5))\n",
    "plt.subplot(1, 2, 1)\n",
    "plt.contourf(x.flatten(), x.flatten(), Cov)\n",
    "plt.xlabel(\"$x$\"); plt.ylabel(\"$x'$\"); plt.title(\"SE\")\n",
    "plt.subplot(1, 2, 2)\n",
    "plotGP(x, mu, Cov, X, Y, f(x))\n",
    "plt.xlabel(\"$x$\"); plt.ylabel(\"$Y(x)$\"); plt.title(\"GP samples\");\n",
    "plt.plot(X, Y, 'x', color = 'C1', label = \"obs\");"
   ]
  },
  {
   "cell_type": "markdown",
   "metadata": {},
   "source": [
    "**Bonus question.** After testing different kernels and various values for $\\sigma^2$ and $\\theta$, which one would you recommend?"
   ]
  }
 ],
 "metadata": {
  "kernelspec": {
   "display_name": "Python 3",
   "language": "python",
   "name": "python3"
  },
  "language_info": {
   "codemirror_mode": {
    "name": "ipython",
    "version": 3
   },
   "file_extension": ".py",
   "mimetype": "text/x-python",
   "name": "python",
   "nbconvert_exporter": "python",
   "pygments_lexer": "ipython3",
   "version": "3.8.5"
  }
 },
 "nbformat": 4,
 "nbformat_minor": 1
}
