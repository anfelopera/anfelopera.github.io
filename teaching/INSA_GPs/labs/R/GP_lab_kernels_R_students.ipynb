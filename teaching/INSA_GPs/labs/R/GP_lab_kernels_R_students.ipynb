{
 "cells": [
  {
   "cell_type": "markdown",
   "metadata": {},
   "source": [
    "# Gaussian processes – Kernel functions (R version)\n",
    "GMM, INSA Toulouse, France <br />\n",
    "Andrés F. López-Lopera, ONERA-DTIS <br />\n",
    "May 2021\n",
    "<br />\n",
    "___"
   ]
  },
  {
   "cell_type": "markdown",
   "metadata": {},
   "source": [
    "For this lab session, your are free to use the language of your choice (e.g. R or Python). In this notebook we propose R implementations."
   ]
  },
  {
   "cell_type": "code",
   "execution_count": null,
   "metadata": {},
   "outputs": [],
   "source": [
    "library(plot3D) # library used for 2D plots\n",
    "rm(list=ls()) # clean all the variables from the environment"
   ]
  },
  {
   "cell_type": "markdown",
   "metadata": {},
   "source": [
    "## Covariance functions\n",
    "\n",
    "We recall some usual covariance functions on $k: \\mathbb{R} \\times \\mathbb{R} \\to \\mathbb{R}$:\n",
    "- Squared Exponential (SE):\n",
    "$$ k(x,y) = \\sigma^2 \\exp\\left( - \\frac{(x-y)^2}{2 \\theta^2} \\right)$$\n",
    "\n",
    "- Matérn 5/2:\n",
    "$$ k(x,y) = \\sigma^2 \\left(1+\\frac{\\sqrt{5} |x-y|}{\\theta}+\\frac{5 |x-y|^2}{3 \\theta^2}\\right)  \\exp\\left( - \\frac{\\sqrt{5}|x-y|}{\\theta} \\right) $$ \n",
    "\n",
    "- Matérn 3/2:\n",
    "$$ k(x,y) = \\sigma^2 \\left(1+\\frac{\\sqrt{3} |x-y|}{\\theta}\\right)  \\exp\\left( - \\frac{\\sqrt{3}|x-y|}{\\theta} \\right) $$ \n",
    "\n",
    "- Exponential:\n",
    "$$ k(x,y) = \\sigma^2 \\exp\\left( - \\frac{|x-y|}{\\theta} \\right)  $$ \n",
    "\n",
    "- Brownian:\n",
    "$$ k(x,y) = \\sigma^2 \\min(x, y) $$ \n",
    "\n",
    "- White noise:\n",
    "$$ k(x,y) = \\sigma^2 \\delta_{x,y} $$ \n",
    "\n",
    "- Constant:\n",
    "$$ k(x,y) = \\sigma^2 $$ \n",
    "\n",
    "- Linear:\n",
    "$$ k(x,y) = \\sigma^2 x y $$ \n",
    "\n",
    "- Cosine:\n",
    "$$ k(x,y) = \\sigma^2 \\cos\\left(\\frac{x-y}{\\theta}\\right) $$ \n",
    "\n",
    "- Sinc:\n",
    "$$ k(x,y) = \\sigma^2 \\frac{\\theta}{x-y} \\sin\\left(\\frac{x-y}{\\theta}\\right) $$ "
   ]
  },
  {
   "cell_type": "markdown",
   "metadata": {},
   "source": [
    "**Question 1.** For at least three kernels of your choice, write a function that takes as input the vectors ``x``, ``y`` and ``param`` and that returns the matrix with general terms $k(x_i, y_j)$."
   ]
  },
  {
   "cell_type": "code",
   "execution_count": null,
   "metadata": {},
   "outputs": [],
   "source": [
    "SEKernel <- function(x, y, param){\n",
    "    # input:\n",
    "    #  x,y: input vectors\n",
    "    #  param: parameters (sigma2,theta)\n",
    "    # output:\n",
    "    #  covariance matrix cov(x,y)\n",
    "    sigma2 <- param[1]; theta <- param[2]\n",
    "    dist <- outer(x/theta, y/theta, '-')\n",
    "    kern = ## to be filled (covariance matrix)\n",
    "    return(kern)\n",
    "}\n",
    "\n",
    "## to be filled (to define another 3 kernel functions) "
   ]
  },
  {
   "cell_type": "code",
   "execution_count": null,
   "metadata": {},
   "outputs": [],
   "source": [
    "# Defining a wrapper function that takes the name of the kernel as an input parameter\n",
    "# This function is called later\n",
    "kernCompute <- function(x, y, kernType, param){\n",
    "    # input:\n",
    "    #  x,y: input vectors\n",
    "    #  kernType: name of the covariance function\n",
    "    #  param: parameters (e.g. sigma, theta)\n",
    "    # output:\n",
    "    #  kern: covariance matrix cov(x,y) according to the type of the covariance\n",
    "    kernFun <- get(paste(kernType, 'Kernel', sep = ''))\n",
    "    return(kernFun(x, y, param))\n",
    "}"
   ]
  },
  {
   "cell_type": "markdown",
   "metadata": {},
   "source": [
    "**Question 2.** For a grid of 100 points on $[0, 1]$, compute the covariance matrix associated to each kernel you wrote in **Question 1**. Simulate Gaussian samples using the function ``sample``."
   ]
  },
  {
   "cell_type": "code",
   "execution_count": null,
   "metadata": {},
   "outputs": [],
   "source": [
    "# function for generating GP samples\n",
    "jitter = 1e-10  # small number to ensure numerical stability (eigenvalues of K can decay rapidly)\n",
    "sample <- function(mu, var, jitter, N){\n",
    "    # Generate N samples from a multivariate Gaussian \\mathcal{N}(mu, var)\n",
    "    L <- ## to be filled (Cholesky decomposition)\n",
    "    f_post <- ## to be filled (samples)\n",
    "    return(f_post)\n",
    "}    "
   ]
  },
  {
   "cell_type": "code",
   "execution_count": null,
   "metadata": {},
   "outputs": [],
   "source": [
    "n <- 100 # number of input points\n",
    "x <- y <- seq(0, 1, length=n) # input vectors\n",
    "param <- c(1, 0.1) # parameters of the GP\n",
    "nsamples <- 10 # number of GP samples"
   ]
  },
  {
   "cell_type": "code",
   "execution_count": null,
   "metadata": {
    "scrolled": false
   },
   "outputs": [],
   "source": [
    "# samples from different types of kernels\n",
    "set.seed(1)\n",
    "par(mfrow = c(1,2))\n",
    "options(repr.plot.width = 15, repr.plot.height = 6)\n",
    "\n",
    "kern <- kernCompute(x, y, kernType = 'SE', param)\n",
    "image2D(kern, xlab = 'x', ylab = \"x'\", main = 'Squared Exponential')\n",
    "samples <- sample(matrix(0, nrow = n, ncol = 1), kern,  jitter, nsamples)\n",
    "matplot(x, samples, type = 'l', xlab = 'x', ylab = 'Y(x)', main = \"GP samples\")\n",
    "\n",
    "## to be filled (repeat the plots for other kernel functions)"
   ]
  },
  {
   "cell_type": "markdown",
   "metadata": {},
   "source": [
    "**Question 3.** Change the kernel and the kernel parameters. What are the effects on the sample paths? Write down your observations."
   ]
  },
  {
   "cell_type": "raw",
   "metadata": {},
   "source": [
    "Answer: "
   ]
  },
  {
   "cell_type": "markdown",
   "metadata": {},
   "source": [
    "**Question 4.**  Using the SE kernel, generate a large number of samples and extract the vectors of the samples evaluated at two (or three) points of the input space. Plot the associated cloud of points. What happen if the two input points are close by? what happen if they are far away?"
   ]
  },
  {
   "cell_type": "code",
   "execution_count": null,
   "metadata": {},
   "outputs": [],
   "source": [
    "nsamples <- 100 # number of samples\n",
    "kern <- kernCompute(x, y, kernType = 'SE', param) # covariance matrix\n",
    "set.seed(1); samples <- sample(matrix(0, nrow = n, ncol = 1), kern, jitter, nsamples)\n",
    "\n",
    "idx_points <- c(10, 15, 100)\n",
    "x_points <- ## to be filled\n",
    "samples_points <- ## to be filled\n",
    "\n",
    "par(mfrow = c(1,2))\n",
    "options(repr.plot.width = 15, repr.plot.height = 6)\n",
    "plot(samples_points[1,], samples_points[2,], xlab = 'y1', ylab = 'y2')\n",
    "plot(samples_points[1,], samples_points[3,], xlab = 'y1', ylab = 'y3')"
   ]
  },
  {
   "cell_type": "markdown",
   "metadata": {},
   "source": [
    "## Building new kernels from other ones"
   ]
  },
  {
   "cell_type": "markdown",
   "metadata": {},
   "source": [
    "**Question 5.**  As discussed in the cours, we can create new kernels by combining predefined ones, e.g.:\n",
    "\n",
    "$$\n",
    "\\begin{array}{ll}\n",
    "\t\\text{Sum of kernels:} & k(x, y) = k_1(x, y) + k_2(x, y) \\\\\n",
    "\t\\text{Product of kernels:} & k(x, y) = k_1(x, y) \\times k_2(x, y)\n",
    "\\end{array}\t\n",
    "$$\n",
    "\n",
    "Play to make combinations of the kernel you wrote previously. Display the resulting covariance matrix and some GP samples."
   ]
  },
  {
   "cell_type": "code",
   "execution_count": null,
   "metadata": {},
   "outputs": [],
   "source": [
    "par(mfrow = c(1,2))\n",
    "options(repr.plot.width = 15, repr.plot.height = 6)\n",
    "\n",
    "nsamples <- 10\n",
    "kern <- ## to be filled\n",
    "\n",
    "image2D(kern, xlab = 'x', ylab = 'y', main = 'linear + cosine')\n",
    "set.seed(1); samples <- sample(matrix(0, nrow = n, ncol = 1), kern,  jitter, nsamples)\n",
    "matplot(x, samples, type = 'l', xlab = 'x', ylab = 'samples')"
   ]
  },
  {
   "cell_type": "markdown",
   "metadata": {},
   "source": [
    "## Gaussian process regression"
   ]
  },
  {
   "cell_type": "markdown",
   "metadata": {},
   "source": [
    "We aim at approximating the test function $f : x \\in [0, 1] \\mapsto x + sin(6\\pi x)$ by a Gaussian process regression model:\n",
    "\n",
    "$$m(x) = k(x, X) k(X,X)^{-1} Y$$\n",
    "\n",
    "$$c(x,y) = k(x,y) - k(x, X) k(X,X)^{-1} x(X,y)$$\n"
   ]
  },
  {
   "cell_type": "markdown",
   "metadata": {},
   "source": [
    "**Question 6.** We write two functions $m$ and $c$ that return the conditional mean and covariance. These functions will typically take as inputs the scalar/vector of prediction point(s) ``x``, the DoE vector ``X``, the vector of responses ``Y``, a kernel function ``kern``, and the covariance parameters ``param``."
   ]
  },
  {
   "cell_type": "code",
   "execution_count": null,
   "metadata": {},
   "outputs": [],
   "source": [
    "# functions used for computing the conditional mean and covariance functions\n",
    "cond_mean <- function(x, X, Y, kernType, param){\n",
    "    # input:\n",
    "    #  x: vector of prediction points\n",
    "    #  X: DoE vector\n",
    "    #  Y: vector of responses\n",
    "    #  kernType: type of covariance functions\n",
    "    #  param: parameters of the covariance\n",
    "    # output:\n",
    "    #  m: conditional mean\n",
    "    m <- ## to be filled\n",
    "    return(m)\n",
    "}\n",
    "\n",
    "cond_cov <- function(x, X, Y, kernType, param){\n",
    "    # input:\n",
    "    #  x: vector of prediction points\n",
    "    #  X: DoE vector\n",
    "    #  Y: vector of responses\n",
    "    #  kernType: type of covariance functions\n",
    "    #  param: parameters of the covariance\n",
    "    # output:\n",
    "    #  C: # conditional covariance\n",
    "    C <- ## to be filled\n",
    "    return(C)\n",
    "} "
   ]
  },
  {
   "cell_type": "markdown",
   "metadata": {},
   "source": [
    "**Question 7.** Create a design of experiment $X$ composed of 5 to 20 points in the input space (regularly spaced points for instance) and compute the vector of observations $Y =\n",
    "f(X)$. Display in the same figure the design points and the target function."
   ]
  },
  {
   "cell_type": "code",
   "execution_count": null,
   "metadata": {},
   "outputs": [],
   "source": [
    "f <- function(x) # target function\n",
    "    return(10*x + sin(6*pi*x))\n",
    "\n",
    "n_design <- 11 ## to be filled (number of input points)\n",
    "X <- ## to be filled (design points)\n",
    "Y <- ## to be filled (responses at the design points)\n",
    "\n",
    "options(repr.plot.width = 6, repr.plot.height = 6)\n",
    "par(mfrow = c(1,1))\n",
    "plot(X, Y, type = 'p', pch = 4, col = 'red')\n",
    "X2 <- seq(0, 1, length = 1e3)\n",
    "lines(X2, f(X2), pch = 4, col = 'red', lty = 2, lwd = 1)\n",
    "legend('topleft', c('obs','test function'),\n",
    "       col = c('red','red'), lty = c(NA,2), pch = c(4,NA))"
   ]
  },
  {
   "cell_type": "markdown",
   "metadata": {},
   "source": [
    "**Question 8.**  Considering the SE kernel, draw on the same graph $f(x)$, $m(x)$ and $95\\%$ confidence intervals: $m(x) \\pm 1.96 \\sqrt{c(x, x)}$."
   ]
  },
  {
   "cell_type": "code",
   "execution_count": null,
   "metadata": {},
   "outputs": [],
   "source": [
    "x <- seq(0, 1, length = 500) # vector of prediction points\n",
    "kernType <- 'SE' # type of covariance functions\n",
    "param <- c(1, 0.1) # parameters of the covariance\n",
    "mu <- ## to be filled (mean vector)\n",
    "Cov <- ## to be filled (covariance matrix)\n",
    "\n",
    "plotGP <- function(x, m, c, X, Y, y) {\n",
    "    # input:\n",
    "    #  x: test points\n",
    "    #  m: conditional mean vector\n",
    "    #  c: conditional covariance matrix\n",
    "    #  X: DoE vector\n",
    "    #  Y: vector of responses\n",
    "    #  y: responses at test points\n",
    "    # output: GP regression plot\n",
    "    upperBound <- m + 1.96*sqrt(abs(diag(c)))\n",
    "    lowerBound <- m - 1.96*sqrt(abs(diag(c)))\n",
    "    \n",
    "    plot(x, upperBound, type = 'l', col = 'lightblue',\n",
    "         lwd = 2, xlab = 'x', ylab = 'f(x)',\n",
    "         xlim = c(min(x), max(x)),\n",
    "         ylim = c(min(f(x)),max(f(x))))\n",
    "    lines(x, lowerBound, type = 'l', col = 'lightblue', lwd = 2)\n",
    "    polygon(c(x,rev(x)), c(upperBound, rev(lowerBound)),\n",
    "            col = 'lightblue', border = NA)\n",
    "    points(X, Y, type = 'p', pch = 4, col = 'red', lwd = 2)\n",
    "    lines(x, m, col = 'dodgerblue', lwd = 2)\n",
    "    lines(x, y, col = 'red', lty = 2, lwd = 1)\n",
    "\n",
    "    legend('topleft', c('obs','predicted mean','CI 95%','test function'),\n",
    "           col = c('red','dodgerblue','lightblue','red'), lty = c(NA,1,1,2),\n",
    "           pch = c(4,NA,NA,NA), ncol = 1)\n",
    "}\n",
    "\n",
    "options(repr.plot.width = 7, repr.plot.height = 6)\n",
    "plotGP(x, mu, Cov, X, Y, f(x))"
   ]
  },
  {
   "cell_type": "markdown",
   "metadata": {
    "collapsed": true
   },
   "source": [
    "**Question 9.**  Change the kernel as well as the values in ``param``. What is the effect of\n",
    "- $\\sigma^2$ on $m(x)$? Can you prove this result?\n",
    "- $\\sigma^2$ on the conditional variance $v(x) = c(x, x)$? Can you prove this result?\n",
    "- $\\theta$ on $m(x)$ (try (very) small and large values)?\n",
    "- $\\theta$ on $v(x)$ (try (very) small and large values)?"
   ]
  },
  {
   "cell_type": "raw",
   "metadata": {},
   "source": [
    "Answer:"
   ]
  },
  {
   "cell_type": "markdown",
   "metadata": {
    "collapsed": true
   },
   "source": [
    "**Question 10.** Generate samples from the conditional process"
   ]
  },
  {
   "cell_type": "code",
   "execution_count": null,
   "metadata": {},
   "outputs": [],
   "source": [
    "par(mfrow = c(1,2))\n",
    "nsamples <- 10\n",
    "samples <- ## to be filled \n",
    "\n",
    "options(repr.plot.width = 15, repr.plot.height = 6)\n",
    "image2D(Cov,  xlab = 'x', ylab = 'y', main = \"conditional covariance matrix\")\n",
    "matplot(x, samples, type = 'l', xlab = 'x', ylab = 'samples')\n",
    "points(X, Y, type = 'p', pch = 4, col = 'red', lwd = 2)"
   ]
  },
  {
   "cell_type": "markdown",
   "metadata": {},
   "source": [
    "**Question 11.**  Use the resulting model to predict values of $f$ for $x \\in [1, 1.5]$. What can you conclude?"
   ]
  },
  {
   "cell_type": "code",
   "execution_count": null,
   "metadata": {},
   "outputs": [],
   "source": [
    "x <- seq(0, 1.5, length = 500) # vector of prediction points\n",
    "mu <- cond_mean(x, X, Y, kernType, param) # conditional mean\n",
    "Cov <- cond_cov(x, X, Y, kernType, param) # conditional covariance\n",
    "\n",
    "options(repr.plot.width = 7, repr.plot.height = 6)\n",
    "plotGP(x, mu, Cov, X, Y, f(x))"
   ]
  },
  {
   "cell_type": "markdown",
   "metadata": {},
   "source": [
    "**Question 12.** Repeat the procedure in **Question 11** but this time considering $k(x,y) = k_{lin}(x,y) + k_{cos}(x,y) + k_{SE}(x,y)$. For instance, fix the length-scale parameter of the cosine kernel to $\\theta_{cos} = 1/(6\\pi)$."
   ]
  },
  {
   "cell_type": "code",
   "execution_count": null,
   "metadata": {},
   "outputs": [],
   "source": [
    "par(mfrow = c(1,2))\n",
    "options(repr.plot.width = 15, repr.plot.height = 6)\n",
    "\n",
    "linCosineSEKernel <- function(x, y, param){\n",
    "    # input:\n",
    "    #  x,y: input vectors\n",
    "    #  param: parameters (sigma2_lin, sigma2_cos, theta_cos, sigma2_SE, theta_SE)\n",
    "    # output:\n",
    "    #  kern: covariance matrix cov(x,y)    \n",
    "    kern <- ## to be filled \n",
    "    return(kern)\n",
    "}\n",
    "\n",
    "x <- seq(0, 1.5, length = 500) # vector of prediction points\n",
    "kernType <- 'linCosineSE' # type of covariance functions\n",
    "param <- c(1, 1, 1/(6*pi), 1, 0.5) # parameters of the covariance\n",
    "\n",
    "#kern <- kernCompute(x, x, kernType, param) # covariance matrix\n",
    "#image2D(kern, xlab = 'x', ylab = 'y', main = \"linear + cosine\")\n",
    "\n",
    "mu <- cond_mean(x, X, Y, kernType, param) # conditional mean\n",
    "Cov <- cond_cov(x, X, Y, kernType, param) # conditional covariance\n",
    "image2D(Cov, xlab = 'x', ylab = 'y', main = \"linear + cosine\")\n",
    "plotGP(x, mu, Cov, X, Y, f(x))"
   ]
  },
  {
   "cell_type": "markdown",
   "metadata": {},
   "source": [
    "**Bonus question.** After testing different kernels and various values for $\\sigma^2$ and $\\theta$, which one would you recommend?"
   ]
  }
 ],
 "metadata": {
  "kernelspec": {
   "display_name": "R",
   "language": "R",
   "name": "ir"
  },
  "language_info": {
   "codemirror_mode": "r",
   "file_extension": ".r",
   "mimetype": "text/x-r-source",
   "name": "R",
   "pygments_lexer": "r",
   "version": "4.0.3"
  }
 },
 "nbformat": 4,
 "nbformat_minor": 1
}
