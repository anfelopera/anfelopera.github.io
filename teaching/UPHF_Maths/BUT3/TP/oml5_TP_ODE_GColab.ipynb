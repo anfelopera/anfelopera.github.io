{
 "cells": [
  {
   "cell_type": "markdown",
   "metadata": {
    "id": "ijujzA9j-1WN"
   },
   "source": [
    "# OML5 - TP 1 : Résolution d'Equations Différentielles Ordinaires\n",
    "\n",
    "Andrés F. LOPEZ-LOPERA <br/>\n",
    "Université Polytechnique Hauts-de-France\n",
    "\n",
    "---"
   ]
  },
  {
   "cell_type": "markdown",
   "metadata": {
    "id": "QtkxUSomrZ0L"
   },
   "source": [
    "Dans ce TP, nous nous intéressons à la résolution d'équations différentielles ordinaires (EDOs) à l'aide de Python.\n",
    "\n",
    "<div class=\"alert alert-danger\">\n",
    "    \n",
    "**Attention !**\n",
    "    \n",
    "- Lisez attentivement les instructions avant d'exécuter une cellule.\n",
    "- Exécutez les cellules de manière séquentielle.\n",
    "<div>"
   ]
  },
  {
   "cell_type": "markdown",
   "metadata": {
    "id": "yi5-UAY9_Qlf"
   },
   "source": [
    "## Équations Différentielles Ordinaires du Premier Ordre"
   ]
  },
  {
   "cell_type": "markdown",
   "metadata": {
    "id": "shomQh-Zoj1W"
   },
   "source": [
    "Soit l'EDO du premier ordre :\n",
    "\n",
    "$$\n",
    "y'(t) + a y(t) = s(t),\n",
    "$$\n",
    "\n",
    "où $a \\in \\mathbb{R}$ et $s(t) : I \\to \\mathbb{R}$ avec $I \\subseteq \\mathbb{R}$.\n",
    "\n",
    "Afin de résoudre l'EDO à l'aide de Python, on devra la mettre sous la forme $y'(t) = f(t, y(t))$ en précisant sa condition initiale :\n",
    "\n",
    "$$\n",
    "\\begin{cases}\n",
    "  y'(t) = - a y(t) + s(t), \\\\\n",
    "  y(0) = y_0.\n",
    "\\end{cases}\n",
    "$$\n",
    "\n",
    "Cette mise en forme de l'EDO est appelée **problème de Cauchy**.\n",
    "\n",
    "Pour résoudre l'EDO numériquement, nous allons s'appuyer sur la fonction `solve_ivp` du toolbox `scipy.integrate`. Cette fonction intègre numériquement des systèmes d'EDOs exprimés sous la forme du problème de Cauchy."
   ]
  },
  {
   "cell_type": "code",
   "execution_count": null,
   "metadata": {
    "id": "a5NJM14kzGFx"
   },
   "outputs": [],
   "source": [
    "from scipy.integrate import solve_ivp\n",
    "\n",
    "?solve_ivp"
   ]
  },
  {
   "cell_type": "markdown",
   "metadata": {
    "id": "chTGlA-FzRz7"
   },
   "source": [
    "**Question 1.** Quels sont les arguments de la fonction `solve_ivp` ?"
   ]
  },
  {
   "cell_type": "markdown",
   "metadata": {
    "id": "YpVwKWZbzcVj"
   },
   "source": [
    "**Réponse.**"
   ]
  },
  {
   "cell_type": "raw",
   "metadata": {
    "id": "DIRWXKtQrZ0P"
   },
   "source": []
  },
  {
   "cell_type": "markdown",
   "metadata": {
    "id": "99F8mfQ0rZ0Q"
   },
   "source": [
    "Dans le reste du TP, nous allons utiliser la fonction `solve_ivp` pour résoudre une série d'exemples traités dans le cours (cf. notes du cours). N'hésitez pas à les cosulter.\n",
    "\n",
    "Pour les fonctions mathématiques usuelles (par exemple, $e^{at}$, $\\sin(t)$, $\\cos(t)$), nous allons s'appuyer sur le toolbox `numpy`(`np.exp`, `np.sin`, `np.cos`)"
   ]
  },
  {
   "cell_type": "markdown",
   "metadata": {
    "id": "vrfx-u33zC8U"
   },
   "source": [
    "**Exemple 1.** Soit l'EDO :\n",
    "\n",
    "$$\n",
    "3y'(t) + 6y(t) = 6, \\ \\text{ avec } \\ y(0) = 0.\n",
    "$$\n",
    "\n",
    "Le problème de Cauchy s'écrit :\n",
    "\n",
    "$$\n",
    "\\begin{cases}\n",
    "  y'(t) = - 3 y(t) + 3, \\\\\n",
    "  y(0) = 0.\n",
    "\\end{cases}\n",
    "$$"
   ]
  },
  {
   "cell_type": "code",
   "execution_count": null,
   "metadata": {
    "colab": {
     "base_uri": "https://localhost:8080/"
    },
    "id": "u07Iq82f-lq2",
    "outputId": "83b35823-90db-43de-ec8a-7bc3bed9b0e8"
   },
   "outputs": [],
   "source": [
    "from scipy.integrate import solve_ivp\n",
    "import numpy as np\n",
    "\n",
    "# On défine d'abord la function f(t, y(t)) décrivant l'EDO du problème de Cauchy\n",
    "def EDO1(t, y):\n",
    "    a = 3 # constante qui multiplie y\n",
    "    s = 3 # source du système\n",
    "    return(-a*y + s)\n",
    "\n",
    "t0 = 0 # instant initial [s]\n",
    "tf = 2 # instant final [s]\n",
    "y0 = 0 # condition initiale\n",
    "\n",
    "# L'EDO peut ensuite être résolu à l'aide de la fonction 'solve_ivp'\n",
    "solution = solve_ivp(EDO1, [t0, tf], [y0], max_step=0.2)\n",
    "print(solution)"
   ]
  },
  {
   "cell_type": "markdown",
   "metadata": {
    "id": "yoZRonU_5ZZ0"
   },
   "source": [
    "Pour afficher la réponse, il suffit d'appeler l'objet `y` de `solution` :"
   ]
  },
  {
   "cell_type": "code",
   "execution_count": null,
   "metadata": {
    "colab": {
     "base_uri": "https://localhost:8080/"
    },
    "id": "OxksOeG35hSz",
    "outputId": "48b77bfb-3aca-468d-c3fa-a1946d573df7"
   },
   "outputs": [],
   "source": [
    "print(\"t : \", solution.t) # Affichage de la table des instants t\n",
    "print(\"y : \", solution.y[0]) # Affichage des résultats y(t)"
   ]
  },
  {
   "cell_type": "markdown",
   "metadata": {
    "id": "gONwFPSq0D70"
   },
   "source": [
    "**Remarque.** Si la fonction `solve_ivp` n'est pas disponible, ce qui est possible sur les anciennes versions du module scipy, il est toujours possible d'utiliser la fonction `odeint` à sa place."
   ]
  },
  {
   "cell_type": "code",
   "execution_count": null,
   "metadata": {
    "id": "f6sGUJSz0sRK"
   },
   "outputs": [],
   "source": [
    "from scipy.integrate import odeint\n",
    "\n",
    "?odeint"
   ]
  },
  {
   "cell_type": "markdown",
   "metadata": {
    "id": "a3AmBfDC06w4"
   },
   "source": [
    "**Question 2.** Adaptez le code précédent pour utiliser la fonction `odeint` au lieu de la fonction `solve_ivp`. Expliquez les différénces."
   ]
  },
  {
   "cell_type": "code",
   "execution_count": null,
   "metadata": {
    "colab": {
     "base_uri": "https://localhost:8080/",
     "height": 140
    },
    "id": "VVStnbahz0wc",
    "outputId": "f7c9545e-6828-4ba3-b149-d1e32927b66d"
   },
   "outputs": [],
   "source": [
    "from scipy.integrate import odeint\n",
    "import numpy as np\n",
    "\n",
    "# Définition de l'EDO du problème de Cauchy\n",
    "def EDO1_odeint(): # à compléter !!\n",
    "    a = 3 # constante qui multiplie y\n",
    "    s = 3 # source du système\n",
    "    return(# à compléter)\n",
    "\n",
    "t0 = 0 # instant initial [s]\n",
    "tf = 2 # instant final [s]\n",
    "y0 = 0 # condition initiale\n",
    "t = np.linspace(t0, tf, 21) # création des instants de calculs\n",
    "\n",
    "# Résolution de l'EDO via odeint\n",
    "solution_odeint = odeint(# à compléter)\n",
    "print(solution_odeint)"
   ]
  },
  {
   "cell_type": "markdown",
   "metadata": {
    "id": "fawaHOP_1oew"
   },
   "source": [
    "**Réponse.**"
   ]
  },
  {
   "cell_type": "raw",
   "metadata": {
    "id": "oLwYZjI5rZ0U"
   },
   "source": []
  },
  {
   "cell_type": "markdown",
   "metadata": {
    "id": "3M71qVpU2A2N"
   },
   "source": [
    "Avec le toolbox `matplotlib`, il est possible de tracer des résultats afin d'analyser le comportement du signal $y(t)$."
   ]
  },
  {
   "cell_type": "code",
   "execution_count": null,
   "metadata": {
    "colab": {
     "base_uri": "https://localhost:8080/",
     "height": 658
    },
    "id": "-Aq_K8cC1_xq",
    "outputId": "e49ebdaf-4712-4ea2-9e7d-d19420322cad"
   },
   "outputs": [],
   "source": [
    "import matplotlib.pyplot as plt\n",
    "\n",
    "# Tracé des deux résultats obtenus via 'solve_ivp' et 'odeint'\n",
    "plt.scatter(solution.t, solution.y[0], label=\"solve_ivp\", color=\"red\")\n",
    "plt.plot(t, solution_odeint, label=\"odeint\")\n",
    "plt.ylabel(\"y(t)\")\n",
    "plt.xlabel(\"t [s]\")\n",
    "plt.title(\"Comparaison des résultats\")\n",
    "plt.grid(which=\"both\")\n",
    "plt.legend()\n",
    "plt.show()"
   ]
  },
  {
   "cell_type": "markdown",
   "metadata": {
    "id": "j-M-TfMSFJcm"
   },
   "source": [
    "**Question 3.** En utilisant la fonction `solve_ivp`, adaptez le code précédent afin de calculer la solution à l'équation homogène $y_H(t)$. Dans un même graphique, tracer les réponses $y(t)$."
   ]
  },
  {
   "cell_type": "code",
   "execution_count": null,
   "metadata": {
    "colab": {
     "base_uri": "https://localhost:8080/",
     "height": 140
    },
    "id": "MQ5KuLFvFjKX",
    "outputId": "3b0eb17b-d618-4a80-b7e9-9af173c7dc37"
   },
   "outputs": [],
   "source": [
    "from scipy.integrate import solve_ivp\n",
    "import numpy as np\n",
    "import matplotlib.pyplot as plt\n",
    "\n",
    "a = 3 # constante qui multiplie y\n",
    "s = 3 # source du système\n",
    "\n",
    "# Définition de l'EDO\n",
    "def EDO(t, y):\n",
    "    return(-a*y + s)\n",
    "\n",
    "# Définition de l'équation homogène\n",
    "def EDO_H(t, y):\n",
    "    # à compléter\n",
    "    return(# à compléter)\n",
    "\n",
    "t0 = 0 # instant initial [s]\n",
    "tf = 2 # instant final [s]\n",
    "y0 = 0 # condition initiale\n",
    "\n",
    "# Résolution de l'EDO\n",
    "solution = solve_ivp(EDO, [t0, tf], [y0], max_step=0.2) # solution générale\n",
    "solution_H = solve_ivp(# à compléter)\n",
    "\n",
    "# Tracé des résultats\n",
    "plt.plot(solution.t, solution.y[0], label=\"y(t)\", color=\"blue\")\n",
    "plt.plot(solution_H.t, solution_H.y[0], label=\"y_H(t)\", color=\"red\")\n",
    "plt.xlabel(\"t [s]\")\n",
    "plt.grid(which=\"both\")\n",
    "plt.legend()\n",
    "plt.show()"
   ]
  },
  {
   "cell_type": "markdown",
   "metadata": {
    "id": "13xUMcEV6H5b"
   },
   "source": [
    "**Exercice 2.** L'EDO associée au courant $i(t)$ $[A]$ d'un circuit RC en série est :\n",
    "\n",
    "<div>\n",
    "<img src=\"circuitRL.png\" width=\"400\"/>\n",
    "</div>\n",
    "\n",
    "$$L i'(t) + R i(t) = v(t),$$\n",
    "\n",
    "avec $L \\ [H]$ et $R \\ [\\Omega]$ l'inductance et la résistance du circuit (respectivement), et $v(t) \\ [V]$ l'alimentation du circuit."
   ]
  },
  {
   "cell_type": "code",
   "execution_count": null,
   "metadata": {
    "colab": {
     "base_uri": "https://localhost:8080/",
     "height": 424
    },
    "id": "koLi8WA0tpAe",
    "outputId": "55d424ff-2174-44e5-ec68-729c2135bf53"
   },
   "outputs": [],
   "source": [
    "from IPython.display import Image\n",
    "Image('circuitRL.png')"
   ]
  },
  {
   "cell_type": "markdown",
   "metadata": {
    "id": "Rm2TqP3lu2P7"
   },
   "source": [
    "Le problème de Cauchy de l'EDO s'écrit :\n",
    "\n",
    "$$\n",
    "\\begin{cases}\n",
    "  i'(t) = - \\dfrac{R}{L} i(t) + \\dfrac{1}{L} v(t), \\\\\n",
    "  i(0) = i_0.\n",
    "\\end{cases}\n",
    "$$"
   ]
  },
  {
   "cell_type": "markdown",
   "metadata": {
    "id": "XNsH1xiqrZ0V"
   },
   "source": [
    "**Question 4.** En utilisant la fonction `solve_ivp`, adaptez le code précédent pour déterminer et tracer la solution générale $i(t)$. Supposez $R = 3 \\Omega$, $L = 1 H$, $v(t) = \\sin(t) \\ [V]$, et la condition initiale $i(0) = 0.5 A$. Tracer la réponse $i(t)$ sur l'intervalle $[0, 15]$ seconds avec un pas de discrétisation $\\Delta_t = 0.1 \\ [s]$."
   ]
  },
  {
   "cell_type": "code",
   "execution_count": null,
   "metadata": {
    "id": "zC_6bZkT5FX_"
   },
   "outputs": [],
   "source": [
    "from scipy.integrate import solve_ivp\n",
    "import numpy as np\n",
    "import matplotlib.pyplot as plt\n",
    "\n",
    "# Constantes du système\n",
    "R = # à compléter\n",
    "L = # à compléter\n",
    "v = np.sin # source du système\n",
    "\n",
    "# Définition de l'EDO\n",
    "def EDO_RLserie(t, i): # à compléter\n",
    "    return()\n",
    "\n",
    "t0 = # à compléter\n",
    "tf = # à compléter\n",
    "i0 = # à compléter\n",
    "\n",
    "# Résolution de l'EDO\n",
    "solution_RLserie = solve_ivp(# à compléter)\n",
    "t = solution_RLserie.t # temps\n",
    "i = solution_RLserie.y[0] # courant du circuit"
   ]
  },
  {
   "cell_type": "code",
   "execution_count": null,
   "metadata": {
    "id": "t6AK7LbG-8l2"
   },
   "outputs": [],
   "source": [
    "# Tracé du résultat\n",
    "plt.plot(t, i, label=\"$i(t)$\", color=\"orange\")\n",
    "plt.ylabel(\"i(t) [A]\")\n",
    "plt.xlabel(\"t [s]\")\n",
    "plt.grid(which=\"both\")\n",
    "plt.legend()\n",
    "plt.show()"
   ]
  },
  {
   "cell_type": "markdown",
   "metadata": {
    "id": "9lWY0xHFCdSw"
   },
   "source": [
    "**Question 5.** Dans le même graphique, et sur l'intervalle $[0, 15]$, tracer le courant $i(t)$, et les voltages associés à la résistance $v_R(t)$ et à l'inductance $v_L(t)$. Que pouvez-vous dire sur les dephasages des signaux $v_R(t)$ et $v_L(t)$ par rapport à $i(t)$ ?"
   ]
  },
  {
   "cell_type": "code",
   "execution_count": null,
   "metadata": {
    "id": "Nh9y7cMDAN9e"
   },
   "outputs": [],
   "source": [
    "v_R = # à compléter\n",
    "v_L = # à compléter\n",
    "\n",
    "# Tracé des résultats\n",
    "plt.plot(t, i, label=\"$i(t)$\", color=\"orange\")\n",
    "plt.plot(# à compléter, color=\"red\")\n",
    "plt.plot(# à compléter, color=\"blue\")\n",
    "plt.xlabel(\"t [s]\")\n",
    "plt.grid(which=\"both\")\n",
    "plt.legend()\n",
    "plt.show()"
   ]
  },
  {
   "cell_type": "markdown",
   "metadata": {
    "id": "MIPvqfncE5PV"
   },
   "source": [
    "**Réponse.**"
   ]
  },
  {
   "cell_type": "raw",
   "metadata": {
    "id": "AlPJFCROrZ0X"
   },
   "source": []
  },
  {
   "cell_type": "markdown",
   "metadata": {
    "id": "Zi0_Ty37Dwg-"
   },
   "source": [
    "**Exercice 2.** L'EDO associée à la tension de la capacitance $v_C$ dans un circuit RC en série est :\n",
    "\n",
    "<div>\n",
    "<img src=\"circuitRC.png\" width=\"700\"/>\n",
    "</div>\n",
    "\n",
    "$$\n",
    "v'_C (t) + \\frac{1}{RC} v_C(t)  = \\frac{v(t)}{RC},\n",
    "$$\n",
    "\n",
    "avec $C \\ [F]$ et $R \\ [\\Omega]$ la capacitance et la résistance du circuit (respectivement). Ici, nous considérons que l'alimentation du circuit est :\n",
    "\n",
    "$$\n",
    "v(t) =\n",
    "\\begin{cases}\n",
    "  v_f, & t > 0, \\\\\n",
    "  v_0, & t \\leq 0.\n",
    "\\end{cases}\n",
    "$$"
   ]
  },
  {
   "cell_type": "code",
   "execution_count": null,
   "metadata": {
    "colab": {
     "base_uri": "https://localhost:8080/",
     "height": 258
    },
    "id": "fBkgjpGjt7Hg",
    "outputId": "cb0e6212-3226-40dd-9107-928a58492107"
   },
   "outputs": [],
   "source": [
    "Image('circuitRC.png')"
   ]
  },
  {
   "cell_type": "markdown",
   "metadata": {
    "id": "6MSSVAdLrZ0Y"
   },
   "source": [
    "**Question 6.**\n",
    "1. En considérant $R = 10 \\ \\Omega$, $C = 0.01 \\ F$, $v_0 = 0 \\ V$ et $v_f = 5 V$, déterminer la solution génerale $v_C$ en considérant l'intervalle $[0, 1]$ et un pas de discrétisation $\\Delta_t = 0.05$.\n",
    "2. Dans le cours (cf. notes du cours), nous avons trouvé que la solution analytique à l'EDO s'écrit :\n",
    "\n",
    "$$\n",
    "v_C(t) = (v_0 - v_f) e^{-\\frac{t}{\\tau}} + v_f,\n",
    "$$\n",
    "\n",
    "avec la constante du temps $\\tau = RC$. Dans un même graphique, comparer la réponse analytique avec celle obtenue numériquement. Proposer une métrique pour quantifier l'erreur d'approximation de la solution numérique. Que pouvez-vous conclure ?"
   ]
  },
  {
   "cell_type": "code",
   "execution_count": null,
   "metadata": {
    "id": "jo9QVrpQDoJA"
   },
   "outputs": [],
   "source": [
    "# Constantes du système\n",
    "R = # à compléter\n",
    "C = # à compléter\n",
    "v0 = # à compléter # voltage pour t <= 0\n",
    "vf = # à compléter # voltage pour t > 0\n",
    "tau = # à compléter # constante du temps\n",
    "\n",
    "# Définition de l'EDO\n",
    "def EDO_RCserie(t, v_C): # à compléter\n",
    "    return()\n",
    "\n",
    "t0 = # à compléter # instant initial [s]\n",
    "tf = # à compléter # instant final [s]\n",
    "\n",
    "# Résolution de l'EDO\n",
    "solution_RCserie = # à compléter\n",
    "t = solution_RCserie.t # temps\n",
    "vC_numerique = solution_RCserie.y[0] # voltage de la capacitance\n",
    "\n",
    "# Résolution analytique de l'EDO\n",
    "vC_theorique = # à compléter"
   ]
  },
  {
   "cell_type": "code",
   "execution_count": null,
   "metadata": {
    "id": "RvNHUNQaLk9o"
   },
   "outputs": [],
   "source": [
    "# Tracé des résultats\n",
    "plt.plot(# à compléter)\n",
    "plt.plot(# à compléter)\n",
    "plt.ylabel(\"v_C [V]\")\n",
    "plt.xlabel(\"t [s]\")\n",
    "plt.grid(which=\"both\")\n",
    "plt.legend()\n",
    "plt.show()\n",
    "\n",
    "# Calcul de l'erreur d'approximation\n",
    "# à compléter"
   ]
  },
  {
   "cell_type": "markdown",
   "metadata": {
    "id": "6tOfCa2QOqWJ"
   },
   "source": [
    "**Réponse.**"
   ]
  },
  {
   "cell_type": "raw",
   "metadata": {
    "id": "b8beuH2QrZ0Z"
   },
   "source": []
  },
  {
   "cell_type": "markdown",
   "metadata": {
    "id": "yvjj3mVUPJsc"
   },
   "source": [
    "**Question 7.** Déterminer le courant $i(t)$ du circuit précédant. Dans un même graphique, comparer les réponses de $v_C(t)$ et $i(t)$. Que pouvez-vous conclure ?"
   ]
  },
  {
   "cell_type": "code",
   "execution_count": null,
   "metadata": {
    "id": "S-TnZs0NPIYa"
   },
   "outputs": [],
   "source": [
    "i = # à compléter\n",
    "\n",
    "# Tracé des résultats\n",
    "plt.plot(# à compléter)\n",
    "plt.plot(# à compléter)\n",
    "plt.xlabel(\"t [s]\")\n",
    "plt.grid(which=\"both\")\n",
    "plt.legend()\n",
    "plt.show()"
   ]
  },
  {
   "cell_type": "markdown",
   "metadata": {
    "id": "ahj2gTkErZ0n"
   },
   "source": [
    "**Réponse.**"
   ]
  },
  {
   "cell_type": "raw",
   "metadata": {
    "id": "uSb1fEPArZ0n"
   },
   "source": []
  },
  {
   "cell_type": "markdown",
   "metadata": {
    "id": "Ilweod4lOtzH"
   },
   "source": [
    "## Équations Différentielles Ordinaires du Second Ordre"
   ]
  },
  {
   "cell_type": "markdown",
   "metadata": {
    "id": "zG0LiPyHorMm"
   },
   "source": [
    "Soit l'EDO du second ordre :\n",
    "\n",
    "$$\n",
    "y''(t) + a y'(t) + b y(t) = s(t),\n",
    "$$\n",
    "\n",
    "où $a,b \\in \\mathbb{R}$ et $s(t) : I \\to \\mathbb{R}$ avec $I \\subseteq \\mathbb{R}$.\n",
    "\n",
    "La fonction `solve_ivp` ne pouvant résoudre que des EDO d'ordre 1, il faut ramener l'EDO d'ordre 2 à un système d'équations différentielles d'ordre 1.\n",
    "\n",
    "- On pose $y_1(t) := y(t)$ et $y_2(t) := y'(t)$. Alors, on a $y''(t) := y'_2(t)$, $y'(t) := y'_1(t)$ et $y(t) := y_1(t)$, ce qui donne : <br/>\n",
    "\n",
    "$$\n",
    "y'_2(t) + a y'_1(t) + b y_1(t) = s(t).\n",
    "$$\n",
    "\n",
    "- On la met sous la forme :\n",
    "\n",
    "$$\n",
    "y'_2(t) = - a y'_1(t) - b y_1(t) + s(t).\n",
    "$$\n",
    "\n",
    "- On pose alors le système :\n",
    "\n",
    "$$\n",
    "Y(t) = \\begin{bmatrix} y_1(t) \\\\ y_2(t) \\end{bmatrix},\n",
    "\\quad \\text{et} \\quad\n",
    "Y'(t) = \\begin{bmatrix} y'_1(t) \\\\ y'_2(t) \\end{bmatrix}\n",
    "= \\begin{bmatrix} y_2(t) \\\\ - a y'_1(t) - b y_1(t) + s(t) \\end{bmatrix}.\n",
    "$$\n",
    "\n",
    "- Cela nous ramène à résoudre le problème de Cauchy suivant :\n",
    "\n",
    "$$\n",
    "\\begin{cases}\n",
    "Y'(t) = \\begin{bmatrix} y_2(t) \\\\ - a y'_1(t) - b y_1(t) + s(t) \\end{bmatrix}, \\\\\n",
    "\\\\\n",
    "Y_0 = \\begin{bmatrix} y_1(0) = y(0) \\\\ y_2(0) = y'(0) \\end{bmatrix}.\n",
    "\\end{cases}\n",
    "$$"
   ]
  },
  {
   "cell_type": "markdown",
   "metadata": {
    "id": "xxrhh_fAT8Hz"
   },
   "source": [
    "**Exemple 2.** Soit l'EDO\n",
    "\n",
    "$$\n",
    "y''(t) + 3y'(t) + 2y(t) = e^{-3t},\n",
    "$$\n",
    "\n",
    "avec les conditions initiales $y(0) = 1$ et $y'(0) = 0$. Le problème de Cauchy s'écrit :\n",
    "\n",
    "$$\n",
    "\\begin{cases}\n",
    "Y'(t) = \\begin{bmatrix} y_2(t) \\\\ - 3 y'_1(t) - 2 y_1(t) + e^{-3t} \\end{bmatrix}, \\\\\n",
    "\\\\\n",
    "Y_0 = \\begin{bmatrix} y(0) = 1 \\\\ y'(0) = 0 \\end{bmatrix}.\n",
    "\\end{cases}\n",
    "$$\n",
    "\n"
   ]
  },
  {
   "cell_type": "code",
   "execution_count": null,
   "metadata": {
    "id": "BhcfzrQsU6lo"
   },
   "outputs": [],
   "source": [
    "from scipy.integrate import solve_ivp\n",
    "import numpy as np\n",
    "\n",
    "# Définition des conditions initiales\n",
    "y1_0 = 1 # condition initiale y(0)\n",
    "y2_0 = 0 # condition initiale y'(0)\n",
    "\n",
    "# Définition du système d'équation différentielle\n",
    "def ODE2(t, Y):\n",
    "    # Définition des paramètres du système\n",
    "    a = 3\n",
    "    b = 2\n",
    "    s = np.exp # source du système\n",
    "\n",
    "    y1 = Y[0]\n",
    "    y2 = Y[1]\n",
    "\n",
    "    dY1_dt = y2\n",
    "    dY2_dt = -a*dY1_dt - b*y1 + s(-3*t)\n",
    "\n",
    "    return [dY1_dt, dY2_dt]\n",
    "\n",
    "# Résolution du système d'équation différentielle\n",
    "solution = solve_ivp(ODE2, [0, 6], [y1_0, y2_0], max_step=0.05, method='RK45')\n",
    "print(solution)"
   ]
  },
  {
   "cell_type": "code",
   "execution_count": null,
   "metadata": {
    "id": "nVxRvGeaUiMd"
   },
   "outputs": [],
   "source": [
    "t = solution.t\n",
    "y = solution.y[0]  # y1 = y(t)\n",
    "dy_dt = solution.y[1]  # y2 = y'(t)\n",
    "\n",
    "# Tracé des résultats\n",
    "plt.plot(t, y, label=\"y(t)\", color=\"blue\")\n",
    "plt.plot(t, dy_dt, label=\"y'(t)\", color=\"red\")\n",
    "plt.xlabel(\"t [s]\")\n",
    "plt.grid(which=\"both\")\n",
    "plt.legend()\n",
    "plt.show()"
   ]
  },
  {
   "cell_type": "markdown",
   "metadata": {
    "id": "fK74Qee1YQK1"
   },
   "source": [
    "**Exercice 4.** L'EDO associée au courant $i(t)$ $[A]$ d'un circuit RLC en série est :\n",
    "\n",
    "<div>\n",
    "<img src=\"circuitRLC.png\" width=\"400\"/>\n",
    "</div>\n",
    "\n",
    "$$i'(t) + \\frac{R}{L} i(t) + \\frac{1}{LC} i(t) = v'(t),$$\n",
    "\n",
    "avec $L \\ [H]$, $R \\ [\\Omega]$ et $C \\ [F]$  l'inductance, la résistance et la capacitance du circuit (respectivement), et $v(t) \\ [V]$ l'alimentation du circuit."
   ]
  },
  {
   "cell_type": "code",
   "execution_count": null,
   "metadata": {
    "colab": {
     "base_uri": "https://localhost:8080/",
     "height": 390
    },
    "id": "PxaoN1CKt_02",
    "outputId": "f7687030-aa51-4932-9aed-7c7017ad228a"
   },
   "outputs": [],
   "source": [
    "Image('circuitRLC.png')"
   ]
  },
  {
   "cell_type": "markdown",
   "metadata": {
    "id": "UeUi9WnFuujZ"
   },
   "source": [
    "Le problème de Cauchy de cette EDO s'écrit :\n",
    "\n",
    "$$\n",
    "\\begin{cases}\n",
    "I'(t) = \\begin{bmatrix} i_2(t) \\\\ - \\frac{R}{L} i'_1(t) - \\frac{1}{LC} i_1(t) + v'(t) \\end{bmatrix}, \\\\\n",
    "\\\\\n",
    "I_0 = \\begin{bmatrix} i(0) \\\\ i'(0) \\end{bmatrix}.\n",
    "\\end{cases}\n",
    "$$\n"
   ]
  },
  {
   "cell_type": "markdown",
   "metadata": {
    "id": "GvyN2tYCZAWM"
   },
   "source": [
    "**Question 8.** Adaptez le code précédent pour déterminer et tracer la solution générale $i(t)$. Supposez $R = 5 \\Omega$, $L = 1 \\ H$, $C = 0.25 \\ F$, $v(t) = \\sin(t) \\ [V]$, et les conditions initiales $i(0) = 0.2$ et $i'(0) = 0$. Tracer la réponse $i(t)$ sur l'intervalle $[0, 20]$ avec un pas de discrétisation $\\Delta_t = 0.1 \\ [s]$."
   ]
  },
  {
   "cell_type": "code",
   "execution_count": null,
   "metadata": {
    "id": "pJph44I9NlX6"
   },
   "outputs": [],
   "source": [
    "from scipy.integrate import solve_ivp\n",
    "import numpy as np\n",
    "\n",
    "# Définition du système d'équation différentielle\n",
    "def ODE_RLCserie(t, I): # à compléter\n",
    "    # Définition des paramètres du système\n",
    "    R = # à compléter\n",
    "    L = # à compléter\n",
    "    C = # à compléter\n",
    "    vp = np.cos # dérivée de la source du système\n",
    "\n",
    "    i1 = # à compléter\n",
    "    i2 = # à compléter\n",
    "\n",
    "    dI1_dt = # à compléter\n",
    "    dI2_dt = # à compléter\n",
    "\n",
    "    return [dI1_dt, dI2_dt]\n",
    "\n",
    "# Définition des conditions initiales\n",
    "i1_0 = # à compléter # condition initiale i(0)\n",
    "i2_0 = # à compléter # condition initiale i'(0)\n",
    "\n",
    "# Résolution du système d'équation différentielle\n",
    "solution = # à compléter\n",
    "print(solution)"
   ]
  },
  {
   "cell_type": "code",
   "execution_count": null,
   "metadata": {
    "id": "WkcLwl4WbL0n"
   },
   "outputs": [],
   "source": [
    "t = solution.t\n",
    "i = solution.y[0]\n",
    "\n",
    "# Tracé du résultat\n",
    "# à compléter"
   ]
  },
  {
   "cell_type": "markdown",
   "metadata": {
    "id": "f3L_8RhHcXOU"
   },
   "source": [
    "**Question 9.** Dans le cours (cf. notes du cours), nous avons trouvé que la solution analytique à l'EDO précédente est :\n",
    "\n",
    "$$\n",
    "i(t) = \\frac{1}{10} e^{-t} + \\frac{1}{85} e^{-4t} + \\frac{3}{34} \\cos(t) + \\frac{5}{34} \\sin(t).\n",
    "$$\n",
    "\n",
    "Dans un même graphique, comparer la solution analytique avec celle obtenue numériquement. Proposer une métrique pour quantifier l'erreur d'approximation de la solution numérique. Que pouvez-vous conclure ?"
   ]
  },
  {
   "cell_type": "code",
   "execution_count": null,
   "metadata": {
    "id": "D9bRgn9IbY85"
   },
   "outputs": [],
   "source": [
    "i_analytique = # à compléter\n",
    "\n",
    "# Tracé des résultats\n",
    "plt.plot() # à compléter\n",
    "\n",
    "# Calcul de l'erreur d'approximation\n",
    "# à compléter"
   ]
  },
  {
   "cell_type": "markdown",
   "metadata": {
    "id": "6axNg-lio7-0"
   },
   "source": [
    "**Réponse.**"
   ]
  },
  {
   "cell_type": "raw",
   "metadata": {
    "id": "VK4YaV17rZ0p"
   },
   "source": []
  },
  {
   "cell_type": "markdown",
   "metadata": {
    "id": "ywWIS9iRrZ0p"
   },
   "source": [
    "**Question 10.** En calculant le déterminant du circuit RLC en série, $\\Delta = R^2 - 4\\frac{L}{C} = 9$, nous pouvons remarquer que l'analyse de la solution homogène corresponde à un régime apériodique. En modifiant la valeur de la résistance $R$, dessinez un circuit qui corresponde à un régime critique. Comparer les deux réponses de $i(t)$ (critique et apériodique)."
   ]
  },
  {
   "cell_type": "markdown",
   "metadata": {
    "id": "j6v3hFgkrZ0p"
   },
   "source": [
    "**Réponse.**"
   ]
  },
  {
   "cell_type": "code",
   "execution_count": null,
   "metadata": {
    "id": "T_h6Wj3nrZ0p"
   },
   "outputs": [],
   "source": [
    "L = # à compléter\n",
    "C = # à compléter\n",
    "R = # à compléter\n",
    "print(\"Résistance [Ohms] :\", R)\n",
    "\n",
    "# Définition du système d'équation différentielle\n",
    "def ODE_RLCserie(t, I): # à compléter\n",
    "    return [dI1_dt, dI2_dt]\n",
    "\n",
    "# Résolution du système d'équation différentielle\n",
    "solution_critique = # à compléter\n",
    "\n",
    "# Tracé du résultat\n",
    "plt.plot() # à compléter"
   ]
  },
  {
   "cell_type": "markdown",
   "metadata": {
    "id": "ME--jUGRrZ0p"
   },
   "source": [
    "**Question 11.**\n",
    "1. Adaptez la fonction `ODE_RLCserie` pour considérer les paramètres $R$, $L$ et $C$ comme des arguments à saisir.  N'hésitez pas à consulter la description de la fonction `solve_ivp` (`?solve_ivp`). <br/>\n",
    "2. Tracez les résultats en considérant des valeurs différentes de triples $(R, L, C)$. Comment chaque paramètre influence-t-il la réponse $i(t)$ ?"
   ]
  },
  {
   "cell_type": "code",
   "execution_count": null,
   "metadata": {
    "id": "MN9opoJJrZ0q"
   },
   "outputs": [],
   "source": [
    "# Définition du système d'équation différentielle\n",
    "def ODE_RLCserie(): # à compléter\n",
    "    return [dI1_dt, dI2_dt]\n",
    "\n",
    "# Résolution du système d'équation différentielle pour des valeurs différentes de (R, L, C)\n",
    "set_param_1 = (4, 1, 0.25)\n",
    "set_param_2 = (4, 0.05, 0.25)\n",
    "set_param_3 = (4, 10, 0.001)\n",
    "\n",
    "sol_set_1 = solve_ivp(# à compléter)\n",
    "sol_set_2 = solve_ivp(# à compléter)\n",
    "sol_set_3 = solve_ivp(# à compléter)\n",
    "\n",
    "# Tracé du résultat\n",
    "# à compléter\n",
    "plt.plot()\n",
    "plt.ylabel(\"i(t) [A]\")\n",
    "plt.xlabel(\"t [s]\")\n",
    "plt.grid(which=\"both\")\n",
    "plt.legend()\n",
    "plt.show()"
   ]
  },
  {
   "cell_type": "markdown",
   "metadata": {
    "id": "P_HqdfRUrZ0q"
   },
   "source": [
    "**Réponse.**"
   ]
  },
  {
   "cell_type": "raw",
   "metadata": {
    "id": "YWwFmBVjrZ0q"
   },
   "source": []
  },
  {
   "cell_type": "markdown",
   "metadata": {
    "id": "yu2_pJAyfh9W"
   },
   "source": [
    "## Sujets d'Approfondissement\n"
   ]
  },
  {
   "cell_type": "markdown",
   "metadata": {
    "id": "C1D1nxBFoXWM"
   },
   "source": [
    "### Système d'Equations Différentielles Couplées d'Ordre 1\n",
    "\n",
    "Soit le système d'équations différentielles couplées suivant :\n",
    "\n",
    "$$\n",
    "\\begin{cases}\n",
    "x'(t) &= 10 [y(t) - x(t)], \\\\\n",
    "y'(t) &= 28 x(t) - y(t) - x(t) z(t), \\\\\n",
    "z'(t) &= x(t) y(t) - (8/3) z(t).\n",
    "\\end{cases}\n",
    "$$\n",
    "\n",
    "Il est possible de résoudre ce système à l'aide de la fonction `solve_ivp`. Il suffit de définir un vecteur $Y'(t) = [x'(t), y'(t), z'(t)]$.\n",
    "\n",
    "Dans le code ci-dessous, nous considerons les conditions initiales $x(0) = y(0) = z(0) = 1$."
   ]
  },
  {
   "cell_type": "code",
   "execution_count": null,
   "metadata": {
    "id": "vMuj_efYdZYz"
   },
   "outputs": [],
   "source": [
    "from scipy.integrate import solve_ivp\n",
    "import numpy as np\n",
    "\n",
    "# Définition des conditions initiales\n",
    "x0 = 1\n",
    "y0 = 1\n",
    "z0 = 1\n",
    "\n",
    "# Définition du système d'équations différentielles\n",
    "def systeme(t, Y):\n",
    "    x = Y[0] # on défine la 1ère composante comme x\n",
    "    y = Y[1] # on défine la 2ème composante comme y\n",
    "    z = Y[2] # on défine la 3ème composante comme z\n",
    "\n",
    "    dx_dt = 10*(y - x)\n",
    "    dy_dt = 28*x - y - x*z\n",
    "    dz_dt = x*y - (8/3)*z\n",
    "    return [dx_dt, dy_dt, dz_dt]\n",
    "\n",
    "# Résolution du système d'équations différentielles\n",
    "solution = solve_ivp(systeme, [0, 40], [x0, y0, z0], max_step=0.01)"
   ]
  },
  {
   "cell_type": "code",
   "execution_count": null,
   "metadata": {
    "id": "YTlw95d-g_0g"
   },
   "outputs": [],
   "source": [
    "import matplotlib.pyplot as plt\n",
    "from mpl_toolkits.mplot3d import Axes3D\n",
    "\n",
    "# Récupération des résultats\n",
    "x = solution.y[0]\n",
    "y = solution.y[1]\n",
    "z = solution.y[2]\n",
    "\n",
    "# Tracé du résultat en 3D\n",
    "fig = plt.figure()\n",
    "ax = fig.add_subplot(projection = '3d')\n",
    "ax.plot(x, y, z, label='Attracteur étrange')\n",
    "plt.title(\"Système de Lorenz\")\n",
    "ax.set_xlabel('x(t)')\n",
    "ax.set_ylabel('y(t)')\n",
    "ax.set_zlabel('z(t)')\n",
    "plt.tight_layout()\n",
    "plt.show()"
   ]
  },
  {
   "cell_type": "code",
   "execution_count": null,
   "metadata": {
    "id": "2C2QAfxghsnO"
   },
   "outputs": [],
   "source": [
    "from scipy.integrate import solve_ivp\n",
    "import numpy as np\n",
    "\n",
    "i_0 = 0\n",
    "Omega_0 = 0\n",
    "\n",
    "# Définition du système d'équations différentielles\n",
    "def systeme(t, Y):\n",
    "    # Définitions des constantes du système\n",
    "    R = 0.345               # Ohms\n",
    "    L = 0.04e-3             # H\n",
    "    U = 6                   # V\n",
    "    J = 14.5e-6             # Kg m²\n",
    "    Ke = 1/(1640*np.pi/30)  # V s/rad\n",
    "    Kt = Ke                 # N m/A\n",
    "    Cr = 0.143*Kt           # N m\n",
    "\n",
    "    i = Y[0]\n",
    "    Omega = Y[1]\n",
    "\n",
    "    didt = - (R/L)*i + (U - Ke*Omega)/L\n",
    "    dOmegadt = (Kt*i - Cr)/J\n",
    "\n",
    "    return [didt, dOmegadt]\n",
    "\n",
    "# Résolution du système d'équations différentielles\n",
    "sol = solve_ivp(systeme, [0, 1.5], [i_0, Omega_0])"
   ]
  },
  {
   "cell_type": "markdown",
   "metadata": {
    "id": "gZ6esK9siUd4"
   },
   "source": [
    "### Machine à Courant Continu (MCC)\n",
    "\n",
    "<div>\n",
    "<img src=\"DCmachine.png\" width=\"400\"/>\n",
    "</div>"
   ]
  },
  {
   "cell_type": "code",
   "execution_count": null,
   "metadata": {
    "colab": {
     "base_uri": "https://localhost:8080/",
     "height": 360
    },
    "id": "__oNfC4BuJJ7",
    "outputId": "66a41981-9000-47b3-a451-42f34cfd7de4"
   },
   "outputs": [],
   "source": [
    "Image('DCmachine.png')"
   ]
  },
  {
   "cell_type": "markdown",
   "metadata": {
    "id": "H1LOxB_TuUSd"
   },
   "source": [
    "L'équation électrique décrivant une MCC est :\n",
    "\n",
    "$$\n",
    "U = L \\frac{d i(t)}{dt} + R i(t) + e(t),\n",
    "$$\n",
    "\n",
    "où $U \\ [V]$ est l'alimentation du circuit, $i \\ [A]$ le courant et $e \\ [V]$ la tension de la MCC. Cette dernière est donnée par :\n",
    "\n",
    "$$\n",
    "e(t) = K_e \\Omega_m(t),\n",
    "$$\n",
    "\n",
    "avec $\\Omega_m \\ [\\frac{rad}{s}]$ la vitesse de rotation du moteur et $K_e \\ [\\frac{V \\cdot s}{rad}]$ la constante de f.e.m (force électromotrice).\n",
    "\n",
    "L'équation mécanique de la MCC s'écrit :\n",
    "\n",
    "$$\n",
    "J \\frac{d \\Omega_m (t)}{dt} = C_m(t) - C_r,\n",
    "$$\n",
    "\n",
    "où $C_m \\ [N \\cdot m]$ et $C_r \\ [N \\cdot m]$ sont les couples mécanique et résistant (respectivement), et $J  \\ [Kg \\cdot m^2]$ est l'inertie de la machine. Le couple mécanique s'obtient par la rélation :\n",
    "\n",
    "$$\n",
    "C_m(t) = K_t i (t)\n",
    "$$\n",
    "\n",
    "avec $K_t \\ [\\frac{N \\cdot m}{A}]$ la constante de couple.\n",
    "\n",
    "A partir des relations ci-dessus, nous obtenons le système d'équations différentielles suivant :\n",
    "\n",
    "$$\n",
    "\\begin{cases}\n",
    "\\dfrac{d i(t)}{dt} = - \\dfrac{R}{L} i(t) + \\dfrac{1}{L} (U - K_e \\Omega_m(t)),\\\\\n",
    "\\\\\n",
    "\\dfrac{d \\Omega_m (t)}{dt} = \\dfrac{1}{J} (K_t i (t) - C_r).\n",
    "\\end{cases}\n",
    "$$\n",
    "\n",
    "Ce système peut être résolu à l'aide de la fonction `solve_ivp`. Dans le code ci-dessous, nous considérons $R = 0.345$, $L = 0.04 \\times 10^{-3}$, $U = 6$, $J = 14.5 \\times 10^{-6}$, $K_e = K_t = \\frac{30}{1640 \\pi}$ et $C_r = 0.143 K_t$. Nous supposerons comme les conditions initiales $i(0) = 0$ et $\\Omega_m(0) = 0$."
   ]
  },
  {
   "cell_type": "code",
   "execution_count": null,
   "metadata": {
    "id": "x9v2stWun2kJ"
   },
   "outputs": [],
   "source": [
    "import matplotlib.pyplot as plt\n",
    "\n",
    "# Tracé du courant\n",
    "plt.subplot(211)\n",
    "plt.plot(sol.t, sol.y[0], label=\"i(t)\")\n",
    "plt.ylabel(\"i(t) [A]\")\n",
    "plt.xlabel(\"t [s]\")\n",
    "plt.grid(which=\"both\")\n",
    "\n",
    "# Tracé de la vitesse\n",
    "plt.subplot(212)\n",
    "plt.plot(sol.t, sol.y[1], label=\"Omega(t)\")\n",
    "plt.ylabel(\"Omega(t) [rad/s]\")\n",
    "plt.xlabel(\"t [s]\")\n",
    "plt.grid(which=\"both\")\n",
    "\n",
    "plt.tight_layout()  # Adaptation de l'affichage pour éviter les superpositions\n",
    "plt.show()"
   ]
  },
  {
   "cell_type": "code",
   "execution_count": null,
   "metadata": {
    "id": "78ztTbNvoCxF"
   },
   "outputs": [],
   "source": []
  }
 ],
 "metadata": {
  "colab": {
   "provenance": []
  },
  "kernelspec": {
   "display_name": "Python 3",
   "language": "python",
   "name": "python3"
  },
  "language_info": {
   "codemirror_mode": {
    "name": "ipython",
    "version": 3
   },
   "file_extension": ".py",
   "mimetype": "text/x-python",
   "name": "python",
   "nbconvert_exporter": "python",
   "pygments_lexer": "ipython3",
   "version": "3.8.8"
  }
 },
 "nbformat": 4,
 "nbformat_minor": 1
}
