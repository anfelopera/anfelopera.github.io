{
 "cells": [
  {
   "cell_type": "markdown",
   "metadata": {},
   "source": [
    "# OML4 - Calcul Matriciel\n",
    "\n",
    "Andrés F. López-Lopera <br/>\n",
    "IUT - GEII, Université Polytechnique Hauts-de-France\n",
    "\n",
    "_____"
   ]
  },
  {
   "cell_type": "markdown",
   "metadata": {},
   "source": [
    "Ce notebook présente deux exercices liés aux opérations sur les matrices et à la résolution de systèmes d’équations linéaires. Il illustre également une application où une décomposition matricielle peut être utilisée pour la compression d’images.\n",
    "\n",
    "**Sommaire**\n",
    "  1. Opérations sur les matrices\n",
    "  2. Résolution d’un système d’équations linéaires\n",
    "  3. Compression d’images à l’aide de la décomposition par diagonalisation\n",
    "\n",
    "<div class=\"alert alert-danger\">\n",
    "Attention : exécutez les cellules dans l’ordre\n",
    "<div>"
   ]
  },
  {
   "cell_type": "markdown",
   "metadata": {},
   "source": [
    "## 1. Opérations sur les matrices\n",
    "\n",
    "Ici, nous allons étudier certaines des opérations matricielles proposées par la boîte à outils Python ``numpy``."
   ]
  },
  {
   "cell_type": "code",
   "execution_count": null,
   "metadata": {},
   "outputs": [],
   "source": [
    "import numpy as np # importing the toolbox numpy as \"np\""
   ]
  },
  {
   "cell_type": "markdown",
   "metadata": {},
   "source": [
    "Nous pouvons définir des matrices et des vecteurs grâce à la commande ``np.array``. \n",
    "\n",
    "**⚠️ Attention :** Python empile les nombres par lignes !"
   ]
  },
  {
   "cell_type": "code",
   "execution_count": null,
   "metadata": {},
   "outputs": [],
   "source": [
    "A = np.array([[1, 1, 3], [0, -1, 2], [-2, 1, 3]]) # matrix A\n",
    "b = np.array([1, 2, 3])                           # row vector b\n",
    "c = np.array([[1], [2], [3]])                     # column vector c\n",
    "\n",
    "print(\"A = \", A)\n",
    "print(\"b = \", b)\n",
    "print(\"c = \", c)"
   ]
  },
  {
   "cell_type": "markdown",
   "metadata": {},
   "source": [
    "Nous pouvons extraire des éléments d’un objet ``np.array`` en utilisant les indices $i,j$.  \n",
    "\n",
    "**⚠️ Attention :** Python commence à compter à partir de 0 !!"
   ]
  },
  {
   "cell_type": "code",
   "execution_count": null,
   "metadata": {},
   "outputs": [],
   "source": [
    "print(\"Output 1:\", A[0,2])   # the element (i=1, j=3)\n",
    "print(\"Output 2:\", A[1:,1:]) # a matrix taking the elements for the pairs (i,j) with i=2,3 and j=2,3\n",
    "print(\"Output 3:\", A[:,0:2]) # a matrix taking the elements for the pairs (i,j) with i=1,2,3 and j=1,2"
   ]
  },
  {
   "cell_type": "markdown",
   "metadata": {},
   "source": [
    "``numpy`` offre un grand nombre d’utilitaires. Nous pouvons les afficher en ajoutant un point ``.`` juste après l’objet ``numpy`` puis en utilisant la touche \"TAB\" du clavier.  \n",
    "\n",
    "Par exemple, nous pouvons vérifier la dimension de la matrice ``A`` avec la commande ``A.shape``."
   ]
  },
  {
   "cell_type": "code",
   "execution_count": null,
   "metadata": {},
   "outputs": [],
   "source": [
    "print(\"Dimension of A:\", A.shape) # dimension of the matrix A\n",
    "print(\"A^T = \", A.T)              # transpose of A"
   ]
  },
  {
   "cell_type": "markdown",
   "metadata": {},
   "source": [
    "Certaines de ces fonctionnalités doivent être utilisées avec la commande ``np.utility()`` :  "
   ]
  },
  {
   "cell_type": "code",
   "execution_count": null,
   "metadata": {},
   "outputs": [],
   "source": [
    "print(np.shape(A))     # dimension of A\n",
    "print(np.transpose(A)) # transpose of A\n",
    "print(np.trace(A))     # trace(A)\n",
    "print(np.diag(A))      # extracting the elements from the diagonal of A\n",
    "print(np.eye(3))       # defining a diagonal matrix of dimension 3"
   ]
  },
  {
   "cell_type": "markdown",
   "metadata": {},
   "source": [
    "D'autres utilitaires liés à l'algèbre linéaire peuvent être appelés avec la commande ``np.linalg`` :  "
   ]
  },
  {
   "cell_type": "code",
   "execution_count": null,
   "metadata": {},
   "outputs": [],
   "source": [
    "print(\"|A| = \", np.linalg.det(A))    # |A|\n",
    "print(\"inv(A) = \", np.linalg.inv(A)) # A^(-1)"
   ]
  },
  {
   "cell_type": "markdown",
   "metadata": {},
   "source": [
    "Une fois les matrices/vecteurs correctement définis, nous pouvons ensuite effectuer les opérations classiques ``+, -, x`` :"
   ]
  },
  {
   "cell_type": "code",
   "execution_count": null,
   "metadata": {},
   "outputs": [],
   "source": [
    "print(A + A.T) # sum of two matrices\n",
    "print(A - A.T) \n",
    "print(2*A)     # multiplication 2A\n",
    "print(A @ A.T) # matrix multiplication of two matrices"
   ]
  },
  {
   "cell_type": "markdown",
   "metadata": {},
   "source": [
    "**Exercices.** Calculez la trace, la transposée, le déterminant et l'inverse des matrices suivantes :  \n",
    "\n",
    "$$\n",
    "    A = \\begin{bmatrix} 1 & 2 \\\\ 3 & 7 \\end{bmatrix},\n",
    "    \\qquad\n",
    "    B = \\begin{bmatrix} 1 & 3 & 2 \\\\ 1 & 1 & -1 \\\\ 3 & 1 & 1 \\end{bmatrix},\n",
    "    \\qquad\n",
    "    C = \\begin{bmatrix} -3 & 0 & 0 & 3 & 0 \\\\ -3 & 0 & -2 & 0 & 0 \\\\ 0 & -1 & 0 & 0 & -3 \\\\ 0 & 0 & 0 & 3 & 3 \\\\ 0 & -1 & 2 & 0 & 1 \\end{bmatrix}.\n",
    "$$\n",
    "Vérifier que $A^{-1} A = I$ et $A A^{-1} = I$.\n",
    "\n",
    "**Solution.**"
   ]
  },
  {
   "cell_type": "code",
   "execution_count": null,
   "metadata": {},
   "outputs": [],
   "source": [
    "##  write here your code\n",
    "# A = np.array()\n",
    "# B = np.array()\n",
    "# C = np.array()"
   ]
  },
  {
   "cell_type": "markdown",
   "metadata": {},
   "source": [
    "## 2. Résolution d’un système d’équations linéaires\n",
    "\n",
    "Nous nous concentrons maintenant sur la résolution de systèmes d'équations linéaires en utilisant ``numpy``. Considérons le système d'équations linéaires donné par :  \n",
    "\n",
    "\\begin{equation*}\n",
    "\t\\begin{cases}\n",
    "\t\tx_1 + 2x_2  = 1, \\\\\n",
    "\t\t3x_1 + 7x_2 = 2.\n",
    "    \\end{cases}\n",
    "\\end{equation*}\n",
    "\n",
    "Comme nous l'avons étudié en cours, ce système peut être écrit sous la forme :  \n",
    "\n",
    "\\begin{equation*}\n",
    "    \\underbrace{\\begin{bmatrix}\n",
    "        1 & 2 \\\\ 3 & 7\n",
    "    \\end{bmatrix}}_{\\textbf{A}}\n",
    "\t\\underbrace{\\begin{bmatrix}\n",
    "\t\tx_1 \\\\ x_2\n",
    "\t\\end{bmatrix}}_{\\textbf{x}}\n",
    "\t=\n",
    "\t\\underbrace{\\begin{bmatrix}\n",
    "\t\t1 \\\\ 2\n",
    "\t\\end{bmatrix}}_{\\textbf{b}}.\n",
    "\\end{equation*}\n",
    "\n",
    "Si $A$ est inversible, alors nous pouvons calculer le vecteur $\\textbf{x}$ comme suit :  \n",
    "\n",
    "\\begin{equation}\n",
    "    \\textbf{x} = \\textbf{A}^{-1} \\textbf{b}.\n",
    "\\end{equation}\n",
    "\n",
    "Comme nous l'avons observé dans la première partie, nous pouvons résoudre ce problème en utilisant la boîte à outils ``numpy``. "
   ]
  },
  {
   "cell_type": "code",
   "execution_count": null,
   "metadata": {},
   "outputs": [],
   "source": [
    "import numpy as np \n",
    "\n",
    "A = np.array([[1, 2], [3, 7]]) # matrix A\n",
    "b = np.array([[1], [2]]) # column vector b\n",
    "\n",
    "print(A)\n",
    "print(b)"
   ]
  },
  {
   "cell_type": "code",
   "execution_count": null,
   "metadata": {},
   "outputs": [],
   "source": [
    "# we first check if A is invertible by computing its determinant\n",
    "detA = np.linalg.det(A)\n",
    "print(detA)"
   ]
  },
  {
   "cell_type": "code",
   "execution_count": null,
   "metadata": {},
   "outputs": [],
   "source": [
    "# Since |A| is different from 0, then A is invertible. The we can compute A^(-1)\n",
    "invA = np.linalg.inv(A)\n",
    "print(invA)"
   ]
  },
  {
   "cell_type": "code",
   "execution_count": null,
   "metadata": {},
   "outputs": [],
   "source": [
    "# now we can compute the matrix multiplication A^(-1) x b\n",
    "x = invA @ b\n",
    "print(x)"
   ]
  },
  {
   "cell_type": "code",
   "execution_count": null,
   "metadata": {},
   "outputs": [],
   "source": [
    "# we can make all the computations in only one line (to save memory since we avoid storing the matrix invA)\n",
    "x = np.linalg.inv(A) @ b\n",
    "print(x)"
   ]
  },
  {
   "cell_type": "markdown",
   "metadata": {},
   "source": [
    "**Exercices.** Considérez le système d'équations linéaires donné par :  \n",
    "\n",
    "\\begin{equation*}\n",
    "\t\\begin{cases}\n",
    "        2x_1 + 3x_2 + 4x_3  = 8, \\\\\n",
    "\t\t3x_1 - 5x_2 + x_3  = -7, \\\\\n",
    "\t\t5x_1 + 2x_2 + 2x_3  = 9.\n",
    "\t\\end{cases}\n",
    "\\end{equation*}\n",
    "\n",
    "Déterminez si le système admet une solution unique. Si c'est le cas, calculez la solution $\\textbf{x} = [x_1, x_2, x_3]$ et vérifiez qu'elle constitue bien une solution valide du système.  \n",
    "\n",
    "**Solution.**"
   ]
  },
  {
   "cell_type": "code",
   "execution_count": null,
   "metadata": {},
   "outputs": [],
   "source": [
    "## write here your code\n",
    "# A = np.array()\n",
    "# b = np.array()"
   ]
  },
  {
   "cell_type": "markdown",
   "metadata": {},
   "source": [
    "## 3. Compression d’images à l’aide de la décomposition par diagonalisation\n",
    "\n",
    "Ici, nous verrons comment la méthode de diagonalisation peut être utilisée pour « compresser » une figure graphique en représentant la figure sous forme de matrice, puis en utilisant la décomposition en valeurs singulières pour trouver la matrice de rang inférieur la plus proche de l'originale. Cette approche peut constituer la base de méthodes de compression efficaces.  "
   ]
  },
  {
   "cell_type": "code",
   "execution_count": null,
   "metadata": {},
   "outputs": [],
   "source": [
    "import numpy as np\n",
    "import numpy.linalg as npl\n",
    "import matplotlib.pyplot as plt\n",
    "import matplotlib.image as mpimg"
   ]
  },
  {
   "cell_type": "markdown",
   "metadata": {},
   "source": [
    "### Charger, manipuler et afficher l'image :  "
   ]
  },
  {
   "cell_type": "markdown",
   "metadata": {},
   "source": [
    "Pouvons-nous deviner d'où la photo a été prise ?  \n",
    "\n",
    "![iut_geii.png](iut_geii.png)"
   ]
  },
  {
   "cell_type": "code",
   "execution_count": null,
   "metadata": {
    "scrolled": true
   },
   "outputs": [],
   "source": [
    "image = mpimg.imread(\"iut_geii.png\")\n",
    "print(image)"
   ]
  },
  {
   "cell_type": "markdown",
   "metadata": {},
   "source": [
    "Nous pouvons extraire les informations relatives à la matrice : dimensions, valeurs minimales et maximales des éléments, etc.  "
   ]
  },
  {
   "cell_type": "code",
   "execution_count": null,
   "metadata": {},
   "outputs": [],
   "source": [
    "print(image.shape) # (rows, columns, RGBA index) "
   ]
  },
  {
   "cell_type": "code",
   "execution_count": null,
   "metadata": {},
   "outputs": [],
   "source": [
    "plt.imshow(image) \n",
    "plt.show()"
   ]
  },
  {
   "cell_type": "markdown",
   "metadata": {},
   "source": [
    "<div class=\"alert alert-block alert-warning\">\n",
    "    \n",
    "L'image est un tableau numpy de dimensions $2691 \\times 2278 \\times 4$ avec des valeurs entières entre 0 et 255.\n",
    "\n",
    "Dans le cas d'une image RGBA (canal rouge, canal vert, canal bleu, canal alpha de l'opacité), la troisième dimension du tableau est égale à 4.\n",
    "\n",
    "Par exemple, la première valeur du sous-tableau de ``img`` correspond au code du canal rouge pour l'intensité de la couleur rouge au premier pixel de l'image.  \n",
    "\n",
    "</div>"
   ]
  },
  {
   "cell_type": "markdown",
   "metadata": {},
   "source": [
    "Nous pouvons également transformer l'image RGBA en une image en niveaux de gris. Pour simplifier cet exercice, nous convertissons l'image en niveaux de gris avec des valeurs de précision double ordinaires entre 0 et 255 en utilisant les commandes suivantes :  "
   ]
  },
  {
   "cell_type": "code",
   "execution_count": null,
   "metadata": {},
   "outputs": [],
   "source": [
    "# to sump up red+green+blue\n",
    "img_greyscale = image[:,:,0] + image[:,:,1] + image[:,:,2]\n",
    "# to make this bebright white \n",
    "img_greyscale = img_greyscale*255/np.max(img_greyscale)\n",
    "\n",
    "# print(img_greyscale)\n",
    "# print(np.shape(img_greyscale))"
   ]
  },
  {
   "cell_type": "markdown",
   "metadata": {},
   "source": [
    "Nous forçons l'image à être une matrice carrée en considérant le plus petit nombre de pixels par dimension."
   ]
  },
  {
   "cell_type": "code",
   "execution_count": null,
   "metadata": {},
   "outputs": [],
   "source": [
    "size_img = np.min(img_greyscale.shape) # detecting the smallest number of pixels per dimension.\n",
    "img_greyscale = img_greyscale[:size_img, :size_img]"
   ]
  },
  {
   "cell_type": "code",
   "execution_count": null,
   "metadata": {},
   "outputs": [],
   "source": [
    "plt.imshow(img_greyscale, cmap = 'gray') \n",
    "plt.show()\n",
    "\n",
    "# RMQ :\n",
    "# imshow() can take as entry an image of RGB values : shape=(dim1, dim2, 3) or an image of \n",
    "# scalar value :shape=(dim1, dim2). If we pass an image of RGB values, the cmap parameter will be ignore.\n",
    "# If we pass an image of scalar value and let the default value of the cmap parameter, imshow() will\n",
    "# map scalar data to colors, so to have a greyscale_img we need to set cmap to 'gray'."
   ]
  },
  {
   "cell_type": "markdown",
   "metadata": {},
   "source": [
    "### Effectuer la décomposition par diagonalisation\n",
    "\n",
    "#### Décomposition par diagonalisation\n",
    "\n",
    "Comme nous l'avons vu en cours, une matrice diagonalisable $A \\in \\mathbb{R}^{m \\times m}$ peut être décomposée sous la forme :\n",
    "\n",
    "$$ A = P D P^{-1},$$\n",
    "\n",
    "où  \n",
    "- $D$ est une matrice diagonale de dimension $m \\times m$ composée des $m$ valeurs propres (**eigenvalues** en anglais) de $A$ :  \n",
    "$$ D = \\begin{bmatrix} \\lambda_1 & \\cdots & 0 \\\\ \\vdots & \\ddots & \\vdots \\\\ 0 & 0 & \\lambda_m \\end{bmatrix};$$  \n",
    "- $P$ est une matrice de dimension $m \\times m$ composée des $m$ vecteurs propres (**eigenvectors** en anglais) de $A$ :  \n",
    "$$ P  = \\begin{bmatrix} v_1 & \\cdots & v_m \\end{bmatrix}.$$\n",
    "\n",
    "Par convention, nous trions les éléments $D_{i,i}$ dans un ordre décroissant.  \n"
   ]
  },
  {
   "cell_type": "markdown",
   "metadata": {},
   "source": [
    "La commande Python `npl.eig` nous permet d'effectuer la décomposition par diagonalisation de l'image en niveaux de gris en utilisant la commande `eig` de la bibliothèque d'algèbre linéaire de numpy. Consultez la documentation ici : [https://numpy.org/doc/stable/reference/generated/numpy.linalg.eig.html](https://numpy.org/doc/stable/reference/generated/numpy.lin"
   ]
  },
  {
   "cell_type": "code",
   "execution_count": null,
   "metadata": {},
   "outputs": [],
   "source": [
    "eigenvalues, eigenvectors = npl.eig(img_greyscale)\n",
    "\n",
    "D = np.diag(eigenvalues)\n",
    "P = eigenvectors\n",
    "Pinv = npl.inv(P)"
   ]
  },
  {
   "cell_type": "markdown",
   "metadata": {},
   "source": [
    "Nous pouvons vérifier les dimensions des résultats de la décomposition : "
   ]
  },
  {
   "cell_type": "code",
   "execution_count": null,
   "metadata": {},
   "outputs": [],
   "source": [
    "print(D)\n",
    "print(np.shape(D))"
   ]
  },
  {
   "cell_type": "code",
   "execution_count": null,
   "metadata": {},
   "outputs": [],
   "source": [
    "print(P)\n",
    "print(np.shape(P))"
   ]
  },
  {
   "cell_type": "markdown",
   "metadata": {},
   "source": [
    "Nous pouvons reconstruire l'image originale en calculant $A = P D P^{-1}$ :  "
   ]
  },
  {
   "cell_type": "code",
   "execution_count": null,
   "metadata": {},
   "outputs": [],
   "source": [
    "# Reconstructiong the image\n",
    "img_greyscale_approx = P @ D @ Pinv\n",
    "img_greyscale_approx = np.real(img_greyscale_approx) # to avoid complex numbers\n",
    "plt.imshow(img_greyscale_approx, cmap = 'gray') \n",
    "plt.title('Reconstructed full diagonalization decomposition')\n",
    "plt.show()"
   ]
  },
  {
   "cell_type": "markdown",
   "metadata": {},
   "source": [
    "Il est possible de quantifier l'erreur de l'approximation en calculant l'erreur quadratique moyenne (**mean squared error (MSE)** en anglais) :\n",
    "\n",
    "$$\\mbox{MSE} = \\frac{1}{n} \\sum_{i = 1}^{n} (y_i - \\widetilde{y}_i)^2,$$\n",
    "\n",
    "où $y_i$ est la valeur réelle et $\\widetilde{y}_i$ l'approximation. Cette erreur est calculée sur $n$ observations.  "
   ]
  },
  {
   "cell_type": "code",
   "execution_count": null,
   "metadata": {},
   "outputs": [],
   "source": [
    "# computing the mean squared error \n",
    "print(\"MSE:\", np.mean((img_greyscale - img_greyscale_approx)**2))"
   ]
  },
  {
   "cell_type": "markdown",
   "metadata": {},
   "source": [
    "### Reconstruction de l'image en utilisant certaines des valeurs propres :  "
   ]
  },
  {
   "cell_type": "markdown",
   "metadata": {},
   "source": [
    "Nous cherchons à reconstruire différentes images à partir de matrices de rang inférieur. Par exemple, nous considérons les premières $n = 1000$ valeurs propres."
   ]
  },
  {
   "cell_type": "code",
   "execution_count": null,
   "metadata": {},
   "outputs": [],
   "source": [
    "n = 1000\n",
    "img_greyscale_approx_1000 = P[:, :n] @ D[:n, :n] @ Pinv[:n, :]\n",
    "img_greyscale_approx_1000 = np.real(img_greyscale_approx_1000) # to avoid complex numbers\n",
    "plt.imshow(img_greyscale_approx_1000, cmap='gray')\n",
    "plt.title('Reconstructed SVD: robot ' + str(n))\n",
    "plt.show()\n",
    "\n",
    "# computing the mean squared error \n",
    "print(\"MSE:\", np.mean((img_greyscale - img_greyscale_approx_1000)**2))"
   ]
  },
  {
   "cell_type": "markdown",
   "metadata": {},
   "source": [
    "**Exercice.** Comparez les trois matrices reconstruites en considérant :\n",
    "\n",
    "- les 500 premiers éléments ($n=500$)\n",
    "- les 250 premiers éléments ($n=250$)\n",
    "- les 100 premiers éléments ($n=100$)\n",
    "\n",
    "Tracez les images associées et commentez les résultats obtenus. Calculez l'erreur quadratique moyenne pour chaque cas et comparez les résultats avec ceux obtenus pour $n = 1000$.\n",
    "\n",
    "**Solution.**"
   ]
  },
  {
   "cell_type": "code",
   "execution_count": null,
   "metadata": {},
   "outputs": [],
   "source": [
    "# write your code here"
   ]
  },
  {
   "cell_type": "code",
   "execution_count": null,
   "metadata": {},
   "outputs": [],
   "source": []
  },
  {
   "cell_type": "code",
   "execution_count": null,
   "metadata": {},
   "outputs": [],
   "source": []
  },
  {
   "cell_type": "code",
   "execution_count": null,
   "metadata": {},
   "outputs": [],
   "source": []
  }
 ],
 "metadata": {
  "kernelspec": {
   "display_name": "Python 3",
   "language": "python",
   "name": "python3"
  },
  "language_info": {
   "codemirror_mode": {
    "name": "ipython",
    "version": 3
   },
   "file_extension": ".py",
   "mimetype": "text/x-python",
   "name": "python",
   "nbconvert_exporter": "python",
   "pygments_lexer": "ipython3",
   "version": "3.8.8"
  }
 },
 "nbformat": 4,
 "nbformat_minor": 4
}
